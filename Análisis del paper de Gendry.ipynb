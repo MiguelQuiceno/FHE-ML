{
 "cells": [
  {
   "cell_type": "markdown",
   "metadata": {},
   "source": [
    "# Proyecto de Criptografía y seguridad: Análisis del paper \"Computing Arbitrary Functions of Encrypted Data\" de Craig Gentry  \n"
   ]
  },
  {
   "cell_type": "markdown",
   "metadata": {},
   "source": [
    "Introducción: \n",
    "\n",
    "Un problema clave en la era de la computación en la nube es la privacidad, pues en una época donde dependemos enormemente del mundo digital, escándalos como el de Cambridge Analytica nos hace darnos cuenta que el manejo que grandes conglomerados como Facebook le pueden hacer a nuestros datos puede tener detrás la intención de manipularnos... \n",
    "\n",
    "Craig Gendry nos hace la pregunta, ¿es posible delegar el procesamiento de datos sin exponer su contenido? \n",
    "\n",
    "En el presente trabajo analizaremos y entenderemos la propuesta que da Gendry como respuesta a la pregunta y presentaremos unas simples implementaciones de dicha propuesta..."
   ]
  },
  {
   "cell_type": "markdown",
   "metadata": {},
   "source": [
    "Empezaremos dando la definición de Cifrado Homomórfico...\n",
    "\n",
    "Según los autores Nimish Jain y Aswani Kumar Cherukuri ellos defininen en su paper \"Revisiting Fully Homomorphic Encryption Schemes\" el Cifrado Homomórfico como: El cifrado homomórfico es una técnica de cifrado sofisticada que permite realizar cálculos sobre datos cifrados sin necesidad de descifrarlos. Esta característica hace que el cifrado homomórfico sea adecuado para realizar cálculos seguros en escenarios de datos sensibles, como la computación en la nube, el intercambio de datos médicos y las transacciones financieras. Los datos se cifran utilizando una clave pública en el cifrado homomórfico y el cálculo se realiza sobre los datos cifrados utilizando un algoritmo que conserva el cifrado. El resultado calculado se descifra luego con una clave privada para obtener el resultado final. Esta noción abstracta protege los datos al tiempo que permite realizar cálculos complicados sobre los datos cifrados, lo que da como resultado un enfoque seguro y eficiente para analizar información sensible. Este artículo tiene como objetivo dar una idea clara sobre los diversos esquemas de cifrado totalmente homomórfico presentes en la literatura y analizar y comparar los resultados de cada uno de estos esquemas. Además, también proporcionamos aplicaciones y herramientas de código abierto de esquemas de cifrado homomórfico. \n",
    "\n",
    "Una definicón rigurosa de cifrado Homomórfico sería la siguiente\n",
    "\n",
    "Un esquema de cifrado homomórfico es un tupla de algoritmos: $HE = (KeyGen, Encrypt, Decrypt, Evaluate)$ donde, \n",
    "\n",
    "1. $KeyGen(\\lambda) \\rightarrow (pk, sk)\\\\$ -Genera un par de claves: clave pública $pk$ y clave privada $sk\\\\$ -$\\lambda$ es el parámetro de seguridad.$\\\\$\n",
    "2. $Encrypt(pk, m) \\rightarrow c\\\\$ -Toma la llave pública $pk$ y un mensaje $m$ del espacio de Mensajes $M\\\\$ -Devuelve un cifrado $c$ en el espacio de mensajes cifrados $C\\\\$  \n",
    "3. $Decrypt (sk, c) \\rightarrow m\\\\$ -Toma la clase secreta $sk$ y un cifrado $c\\\\$ -Devuelve el mensaje original $m\\\\$\n",
    "4. $Evaluate (pk, f, c_{1}, c_{2}, ..., c_{t}) \\rightarrow c_{f}\\\\$ -Toma la clave pública, una función computable y una colección de cifrados $c_{1}, c_{2}, ..., c{t}\\\\$ -Devuelve el nuevo cifrado $c_{f}$ tal que: $Decrypt(sk, c_{f}) = f(m_{1}, ..., m_{t})$, i.e. el resultado cifrado de aplicar $f$ sobre los textos planos.       "
   ]
  }
 ],
 "metadata": {
  "language_info": {
   "name": "python"
  }
 },
 "nbformat": 4,
 "nbformat_minor": 2
}
