{
  "nbformat": 4,
  "nbformat_minor": 0,
  "metadata": {
    "colab": {
      "provenance": [],
      "toc_visible": true,
      "authorship_tag": "ABX9TyPwqRzJ4m4lzyog3ALo3Zih",
      "include_colab_link": true
    },
    "kernelspec": {
      "name": "python3",
      "display_name": "Python 3"
    },
    "language_info": {
      "name": "python"
    }
  },
  "cells": [
    {
      "cell_type": "markdown",
      "metadata": {
        "id": "view-in-github",
        "colab_type": "text"
      },
      "source": [
        "<a href=\"https://colab.research.google.com/github/MiguelQuiceno/FHE-ML/blob/main/Aprendiendo_Zama.ipynb\" target=\"_parent\"><img src=\"https://colab.research.google.com/assets/colab-badge.svg\" alt=\"Open In Colab\"/></a>"
      ]
    },
    {
      "cell_type": "code",
      "execution_count": 1,
      "metadata": {
        "colab": {
          "base_uri": "https://localhost:8080/"
        },
        "id": "Z1dNSrsx8FJk",
        "outputId": "1e00db81-7b88-44dd-f9d8-d401fac8c62c"
      },
      "outputs": [
        {
          "output_type": "stream",
          "name": "stdout",
          "text": [
            "Requirement already satisfied: pip in /usr/local/lib/python3.11/dist-packages (25.0)\n",
            "Requirement already satisfied: wheel in /usr/local/lib/python3.11/dist-packages (0.45.1)\n",
            "Requirement already satisfied: setuptools in /usr/local/lib/python3.11/dist-packages (75.8.0)\n",
            "Collecting concrete-python\n",
            "  Using cached concrete_python-2.9.0-cp311-cp311-manylinux_2_28_x86_64.whl.metadata (12 kB)\n",
            "Requirement already satisfied: importlib-resources>=6.1 in /usr/local/lib/python3.11/dist-packages (from concrete-python) (6.5.2)\n",
            "Requirement already satisfied: jsonpickle>=3.0.3 in /usr/local/lib/python3.11/dist-packages (from concrete-python) (4.0.1)\n",
            "Requirement already satisfied: networkx>=2.6 in /usr/local/lib/python3.11/dist-packages (from concrete-python) (3.4.2)\n",
            "Requirement already satisfied: numpy<2.0,>=1.23 in /usr/local/lib/python3.11/dist-packages (from concrete-python) (1.26.4)\n",
            "Requirement already satisfied: scipy>=1.10 in /usr/local/lib/python3.11/dist-packages (from concrete-python) (1.13.1)\n",
            "Requirement already satisfied: torch>=1.13 in /usr/local/lib/python3.11/dist-packages (from concrete-python) (2.5.1+cu121)\n",
            "Collecting z3-solver==4.13.0 (from concrete-python)\n",
            "  Using cached z3_solver-4.13.0.0-py2.py3-none-manylinux2014_x86_64.whl.metadata (757 bytes)\n",
            "Requirement already satisfied: filelock in /usr/local/lib/python3.11/dist-packages (from torch>=1.13->concrete-python) (3.17.0)\n",
            "Requirement already satisfied: typing-extensions>=4.8.0 in /usr/local/lib/python3.11/dist-packages (from torch>=1.13->concrete-python) (4.12.2)\n",
            "Requirement already satisfied: jinja2 in /usr/local/lib/python3.11/dist-packages (from torch>=1.13->concrete-python) (3.1.5)\n",
            "Requirement already satisfied: fsspec in /usr/local/lib/python3.11/dist-packages (from torch>=1.13->concrete-python) (2024.10.0)\n",
            "Requirement already satisfied: nvidia-cuda-nvrtc-cu12==12.1.105 in /usr/local/lib/python3.11/dist-packages (from torch>=1.13->concrete-python) (12.1.105)\n",
            "Requirement already satisfied: nvidia-cuda-runtime-cu12==12.1.105 in /usr/local/lib/python3.11/dist-packages (from torch>=1.13->concrete-python) (12.1.105)\n",
            "Requirement already satisfied: nvidia-cuda-cupti-cu12==12.1.105 in /usr/local/lib/python3.11/dist-packages (from torch>=1.13->concrete-python) (12.1.105)\n",
            "Requirement already satisfied: nvidia-cudnn-cu12==9.1.0.70 in /usr/local/lib/python3.11/dist-packages (from torch>=1.13->concrete-python) (9.1.0.70)\n",
            "Requirement already satisfied: nvidia-cublas-cu12==12.1.3.1 in /usr/local/lib/python3.11/dist-packages (from torch>=1.13->concrete-python) (12.1.3.1)\n",
            "Requirement already satisfied: nvidia-cufft-cu12==11.0.2.54 in /usr/local/lib/python3.11/dist-packages (from torch>=1.13->concrete-python) (11.0.2.54)\n",
            "Requirement already satisfied: nvidia-curand-cu12==10.3.2.106 in /usr/local/lib/python3.11/dist-packages (from torch>=1.13->concrete-python) (10.3.2.106)\n",
            "Requirement already satisfied: nvidia-cusolver-cu12==11.4.5.107 in /usr/local/lib/python3.11/dist-packages (from torch>=1.13->concrete-python) (11.4.5.107)\n",
            "Requirement already satisfied: nvidia-cusparse-cu12==12.1.0.106 in /usr/local/lib/python3.11/dist-packages (from torch>=1.13->concrete-python) (12.1.0.106)\n",
            "Requirement already satisfied: nvidia-nccl-cu12==2.21.5 in /usr/local/lib/python3.11/dist-packages (from torch>=1.13->concrete-python) (2.21.5)\n",
            "Requirement already satisfied: nvidia-nvtx-cu12==12.1.105 in /usr/local/lib/python3.11/dist-packages (from torch>=1.13->concrete-python) (12.1.105)\n",
            "Requirement already satisfied: triton==3.1.0 in /usr/local/lib/python3.11/dist-packages (from torch>=1.13->concrete-python) (3.1.0)\n",
            "Requirement already satisfied: sympy==1.13.1 in /usr/local/lib/python3.11/dist-packages (from torch>=1.13->concrete-python) (1.13.1)\n",
            "Requirement already satisfied: nvidia-nvjitlink-cu12 in /usr/local/lib/python3.11/dist-packages (from nvidia-cusolver-cu12==11.4.5.107->torch>=1.13->concrete-python) (12.6.85)\n",
            "Requirement already satisfied: mpmath<1.4,>=1.1.0 in /usr/local/lib/python3.11/dist-packages (from sympy==1.13.1->torch>=1.13->concrete-python) (1.3.0)\n",
            "Requirement already satisfied: MarkupSafe>=2.0 in /usr/local/lib/python3.11/dist-packages (from jinja2->torch>=1.13->concrete-python) (3.0.2)\n",
            "Using cached concrete_python-2.9.0-cp311-cp311-manylinux_2_28_x86_64.whl (77.0 MB)\n",
            "Using cached z3_solver-4.13.0.0-py2.py3-none-manylinux2014_x86_64.whl (57.3 MB)\n",
            "Installing collected packages: z3-solver, concrete-python\n",
            "Successfully installed concrete-python-2.9.0 z3-solver-4.13.0.0\n"
          ]
        }
      ],
      "source": [
        "!pip install -U pip wheel setuptools\n",
        "!pip install concrete-python"
      ]
    },
    {
      "cell_type": "code",
      "source": [
        "\"\"\"\n",
        "The basic workflow of computation is as follows:\n",
        "\n",
        "Define the function you want to compute\n",
        "\n",
        "Compile the function into a Concrete Circuit\n",
        "\n",
        "Use the Circuit to perform homomorphic evaluation\"\"\"\n",
        "\n",
        "from concrete import fhe\n",
        "\n",
        "def add(x, y):\n",
        "  return x + y\n",
        "\n",
        "compiler = fhe.Compiler(add, {'x': 'encrypted', 'y':'encrypted'})\n",
        "\n",
        "inputset = [(2, 3), (0, 0)]\n",
        "\n",
        "print(f'Compilation...')\n",
        "circuit = compiler.compile(inputset)\n",
        "\n",
        "print(f'Key generation...')\n",
        "circuit.keygen()\n",
        "\n",
        "print(f'Homomorphic evaluation...')\n",
        "\n",
        "encrypted_x, encrypted_y = circuit.encrypt(2, 6)\n",
        "encrypted_result = circuit.run(encrypted_x, encrypted_y)\n",
        "result = circuit.decrypt(encrypted_result)\n",
        "\n",
        "print(result)\n",
        "\n",
        "\n"
      ],
      "metadata": {
        "colab": {
          "base_uri": "https://localhost:8080/"
        },
        "id": "ntL2N3aS8YSb",
        "outputId": "a2e632e9-7b35-4632-f792-1cad72433d2d"
      },
      "execution_count": 2,
      "outputs": [
        {
          "output_type": "stream",
          "name": "stdout",
          "text": [
            "Compilation...\n",
            "Key generation...\n",
            "Homomorphic evaluation...\n",
            "8\n"
          ]
        }
      ]
    },
    {
      "cell_type": "code",
      "source": [
        "# Otra forma de compilar con un decorador\n",
        "\n",
        "from math import log\n",
        "\n",
        "@fhe.compiler({'x': 'encrypted', 'y': 'encrypted', 'z': 'encrypted'})\n",
        "def f(x, y, z):\n",
        "  return x * y * z\n",
        "\n",
        "inputset = [(2, 1, 3), (3, 3, 4)]\n",
        "circuit = f.compile(inputset)\n",
        "\n",
        "circuit.encrypt_run_decrypt(3, 1, 3)\n",
        "\n"
      ],
      "metadata": {
        "colab": {
          "base_uri": "https://localhost:8080/"
        },
        "id": "suDLDhu29UdS",
        "outputId": "18f933c1-66d9-4886-d450-1d8c751392db"
      },
      "execution_count": 12,
      "outputs": [
        {
          "output_type": "execute_result",
          "data": {
            "text/plain": [
              "9"
            ]
          },
          "metadata": {},
          "execution_count": 12
        }
      ]
    },
    {
      "cell_type": "code",
      "source": [
        "#Parece que no se pueden encriptar funciones\n",
        "\n",
        "@fhe.compiler({'f': 'encrypted', 'a': 'encrypted', 'b': 'encrypted'}) # Remove 'f' from encryption\n",
        "def g(f, a, b):\n",
        "  return f(a) + b\n",
        "\n",
        "# Define functions outside inputset\n",
        "def square(x):\n",
        "    return x ** 2\n",
        "\n",
        "def log_func(x):\n",
        "    return log(x)\n",
        "\n",
        "inputset = [(square, 1, 3), (log_func, 3, 4)] # Use function names instead of lambda functions\n",
        "circuit = g.compile(inputset)\n",
        "\n",
        "circuit.encrypt_run_decrypt(square, 2, 6) # Pass the function name directly\n"
      ],
      "metadata": {
        "colab": {
          "base_uri": "https://localhost:8080/",
          "height": 390
        },
        "id": "fjw5a4qx-3XZ",
        "outputId": "91a5c5f3-c4c1-43b2-d5bb-366ff75d6a3e"
      },
      "execution_count": 15,
      "outputs": [
        {
          "output_type": "error",
          "ename": "ValueError",
          "evalue": "Concrete cannot represent <function square at 0x79e8ef0bf560>",
          "traceback": [
            "\u001b[0;31m---------------------------------------------------------------------------\u001b[0m",
            "\u001b[0;31mValueError\u001b[0m                                Traceback (most recent call last)",
            "\u001b[0;32m<ipython-input-15-c60517ab245b>\u001b[0m in \u001b[0;36m<cell line: 0>\u001b[0;34m()\u001b[0m\n\u001b[1;32m     13\u001b[0m \u001b[0;34m\u001b[0m\u001b[0m\n\u001b[1;32m     14\u001b[0m \u001b[0minputset\u001b[0m \u001b[0;34m=\u001b[0m \u001b[0;34m[\u001b[0m\u001b[0;34m(\u001b[0m\u001b[0msquare\u001b[0m\u001b[0;34m,\u001b[0m \u001b[0;36m1\u001b[0m\u001b[0;34m,\u001b[0m \u001b[0;36m3\u001b[0m\u001b[0;34m)\u001b[0m\u001b[0;34m,\u001b[0m \u001b[0;34m(\u001b[0m\u001b[0mlog_func\u001b[0m\u001b[0;34m,\u001b[0m \u001b[0;36m3\u001b[0m\u001b[0;34m,\u001b[0m \u001b[0;36m4\u001b[0m\u001b[0;34m)\u001b[0m\u001b[0;34m]\u001b[0m \u001b[0;31m# Use function names instead of lambda functions\u001b[0m\u001b[0;34m\u001b[0m\u001b[0;34m\u001b[0m\u001b[0m\n\u001b[0;32m---> 15\u001b[0;31m \u001b[0mcircuit\u001b[0m \u001b[0;34m=\u001b[0m \u001b[0mg\u001b[0m\u001b[0;34m.\u001b[0m\u001b[0mcompile\u001b[0m\u001b[0;34m(\u001b[0m\u001b[0minputset\u001b[0m\u001b[0;34m)\u001b[0m\u001b[0;34m\u001b[0m\u001b[0;34m\u001b[0m\u001b[0m\n\u001b[0m\u001b[1;32m     16\u001b[0m \u001b[0;34m\u001b[0m\u001b[0m\n\u001b[1;32m     17\u001b[0m \u001b[0mcircuit\u001b[0m\u001b[0;34m.\u001b[0m\u001b[0mencrypt_run_decrypt\u001b[0m\u001b[0;34m(\u001b[0m\u001b[0msquare\u001b[0m\u001b[0;34m,\u001b[0m \u001b[0;36m2\u001b[0m\u001b[0;34m,\u001b[0m \u001b[0;36m6\u001b[0m\u001b[0;34m)\u001b[0m \u001b[0;31m# Pass the function name directly\u001b[0m\u001b[0;34m\u001b[0m\u001b[0;34m\u001b[0m\u001b[0m\n",
            "\u001b[0;32m/usr/local/lib/python3.11/dist-packages/concrete/fhe/compilation/decorators.py\u001b[0m in \u001b[0;36mcompile\u001b[0;34m(self, inputset, configuration, artifacts, **kwargs)\u001b[0m\n\u001b[1;32m    154\u001b[0m         \"\"\"\n\u001b[1;32m    155\u001b[0m \u001b[0;34m\u001b[0m\u001b[0m\n\u001b[0;32m--> 156\u001b[0;31m         return self.compiler.compile(\n\u001b[0m\u001b[1;32m    157\u001b[0m             \u001b[0minputset\u001b[0m \u001b[0;32mif\u001b[0m \u001b[0minputset\u001b[0m \u001b[0;32mis\u001b[0m \u001b[0;32mnot\u001b[0m \u001b[0;32mNone\u001b[0m \u001b[0;32melse\u001b[0m \u001b[0;34m[\u001b[0m\u001b[0;34m]\u001b[0m\u001b[0;34m,\u001b[0m \u001b[0mconfiguration\u001b[0m\u001b[0;34m,\u001b[0m \u001b[0martifacts\u001b[0m\u001b[0;34m,\u001b[0m \u001b[0;34m**\u001b[0m\u001b[0mkwargs\u001b[0m\u001b[0;34m\u001b[0m\u001b[0;34m\u001b[0m\u001b[0m\n\u001b[1;32m    158\u001b[0m         )\n",
            "\u001b[0;32m/usr/local/lib/python3.11/dist-packages/concrete/fhe/compilation/compiler.py\u001b[0m in \u001b[0;36mcompile\u001b[0;34m(self, inputset, configuration, artifacts, **kwargs)\u001b[0m\n\u001b[1;32m    201\u001b[0m         \u001b[0;32mif\u001b[0m \u001b[0mconf\u001b[0m\u001b[0;34m.\u001b[0m\u001b[0mcomposable\u001b[0m\u001b[0;34m:\u001b[0m\u001b[0;34m\u001b[0m\u001b[0;34m\u001b[0m\u001b[0m\n\u001b[1;32m    202\u001b[0m             \u001b[0mself\u001b[0m\u001b[0;34m.\u001b[0m\u001b[0m_module_compiler\u001b[0m\u001b[0;34m.\u001b[0m\u001b[0mcomposition\u001b[0m \u001b[0;34m=\u001b[0m \u001b[0mAllComposable\u001b[0m\u001b[0;34m(\u001b[0m\u001b[0;34m)\u001b[0m\u001b[0;34m\u001b[0m\u001b[0;34m\u001b[0m\u001b[0m\n\u001b[0;32m--> 203\u001b[0;31m         fhe_module = self._module_compiler.compile(\n\u001b[0m\u001b[1;32m    204\u001b[0m             \u001b[0;34m{\u001b[0m\u001b[0mself\u001b[0m\u001b[0;34m.\u001b[0m\u001b[0m_function_name\u001b[0m\u001b[0;34m:\u001b[0m \u001b[0minputset\u001b[0m\u001b[0;34m}\u001b[0m\u001b[0;34m,\u001b[0m \u001b[0mconfiguration\u001b[0m\u001b[0;34m=\u001b[0m\u001b[0mconf\u001b[0m\u001b[0;34m,\u001b[0m \u001b[0mmodule_artifacts\u001b[0m\u001b[0;34m=\u001b[0m\u001b[0mart\u001b[0m\u001b[0;34m\u001b[0m\u001b[0;34m\u001b[0m\u001b[0m\n\u001b[1;32m    205\u001b[0m         )\n",
            "\u001b[0;32m/usr/local/lib/python3.11/dist-packages/concrete/fhe/compilation/module_compiler.py\u001b[0m in \u001b[0;36mcompile\u001b[0;34m(self, inputsets, configuration, module_artifacts, **kwargs)\u001b[0m\n\u001b[1;32m    403\u001b[0m                 \u001b[0minputset\u001b[0m \u001b[0;34m=\u001b[0m \u001b[0minputsets\u001b[0m\u001b[0;34m[\u001b[0m\u001b[0mname\u001b[0m\u001b[0;34m]\u001b[0m \u001b[0;32mif\u001b[0m \u001b[0minputsets\u001b[0m \u001b[0;32mis\u001b[0m \u001b[0;32mnot\u001b[0m \u001b[0;32mNone\u001b[0m \u001b[0;32melse\u001b[0m \u001b[0;32mNone\u001b[0m\u001b[0;34m\u001b[0m\u001b[0;34m\u001b[0m\u001b[0m\n\u001b[1;32m    404\u001b[0m                 \u001b[0mfunction_artifacts\u001b[0m \u001b[0;34m=\u001b[0m \u001b[0mmodule_artifacts\u001b[0m\u001b[0;34m.\u001b[0m\u001b[0mfunctions\u001b[0m\u001b[0;34m[\u001b[0m\u001b[0mname\u001b[0m\u001b[0;34m]\u001b[0m\u001b[0;34m\u001b[0m\u001b[0;34m\u001b[0m\u001b[0m\n\u001b[0;32m--> 405\u001b[0;31m                 \u001b[0mfunction\u001b[0m\u001b[0;34m.\u001b[0m\u001b[0mevaluate\u001b[0m\u001b[0;34m(\u001b[0m\u001b[0;34m\"Compiling\"\u001b[0m\u001b[0;34m,\u001b[0m \u001b[0minputset\u001b[0m\u001b[0;34m,\u001b[0m \u001b[0mconfiguration\u001b[0m\u001b[0;34m,\u001b[0m \u001b[0mfunction_artifacts\u001b[0m\u001b[0;34m)\u001b[0m\u001b[0;34m\u001b[0m\u001b[0;34m\u001b[0m\u001b[0m\n\u001b[0m\u001b[1;32m    406\u001b[0m                 \u001b[0;32massert\u001b[0m \u001b[0mfunction\u001b[0m\u001b[0;34m.\u001b[0m\u001b[0mgraph\u001b[0m \u001b[0;32mis\u001b[0m \u001b[0;32mnot\u001b[0m \u001b[0;32mNone\u001b[0m\u001b[0;34m\u001b[0m\u001b[0;34m\u001b[0m\u001b[0m\n\u001b[1;32m    407\u001b[0m                 \u001b[0mdbg\u001b[0m\u001b[0;34m.\u001b[0m\u001b[0mdebug_computation_graph\u001b[0m\u001b[0;34m(\u001b[0m\u001b[0mname\u001b[0m\u001b[0;34m,\u001b[0m \u001b[0mfunction\u001b[0m\u001b[0;34m.\u001b[0m\u001b[0mgraph\u001b[0m\u001b[0;34m)\u001b[0m\u001b[0;34m\u001b[0m\u001b[0;34m\u001b[0m\u001b[0m\n",
            "\u001b[0;32m/usr/local/lib/python3.11/dist-packages/concrete/fhe/compilation/module_compiler.py\u001b[0m in \u001b[0;36mevaluate\u001b[0;34m(self, action, inputset, configuration, artifacts)\u001b[0m\n\u001b[1;32m    231\u001b[0m                 \u001b[0;32mraise\u001b[0m \u001b[0mRuntimeError\u001b[0m\u001b[0;34m(\u001b[0m\u001b[0mmessage\u001b[0m\u001b[0;34m)\u001b[0m \u001b[0;32mfrom\u001b[0m \u001b[0merror\u001b[0m\u001b[0;34m\u001b[0m\u001b[0;34m\u001b[0m\u001b[0m\n\u001b[1;32m    232\u001b[0m \u001b[0;34m\u001b[0m\u001b[0m\n\u001b[0;32m--> 233\u001b[0;31m             \u001b[0mself\u001b[0m\u001b[0;34m.\u001b[0m\u001b[0mtrace\u001b[0m\u001b[0;34m(\u001b[0m\u001b[0mfirst_sample\u001b[0m\u001b[0;34m,\u001b[0m \u001b[0martifacts\u001b[0m\u001b[0;34m)\u001b[0m\u001b[0;34m\u001b[0m\u001b[0;34m\u001b[0m\u001b[0m\n\u001b[0m\u001b[1;32m    234\u001b[0m             \u001b[0;32massert\u001b[0m \u001b[0mself\u001b[0m\u001b[0;34m.\u001b[0m\u001b[0mgraph\u001b[0m \u001b[0;32mis\u001b[0m \u001b[0;32mnot\u001b[0m \u001b[0;32mNone\u001b[0m\u001b[0;34m\u001b[0m\u001b[0;34m\u001b[0m\u001b[0m\n\u001b[1;32m    235\u001b[0m \u001b[0;34m\u001b[0m\u001b[0m\n",
            "\u001b[0;32m/usr/local/lib/python3.11/dist-packages/concrete/fhe/compilation/module_compiler.py\u001b[0m in \u001b[0;36mtrace\u001b[0;34m(self, sample, artifacts)\u001b[0m\n\u001b[1;32m    132\u001b[0m                 \u001b[0martifacts\u001b[0m\u001b[0;34m.\u001b[0m\u001b[0madd_parameter_encryption_status\u001b[0m\u001b[0;34m(\u001b[0m\u001b[0mparam\u001b[0m\u001b[0;34m,\u001b[0m \u001b[0mencryption_status\u001b[0m\u001b[0;34m)\u001b[0m\u001b[0;34m\u001b[0m\u001b[0;34m\u001b[0m\u001b[0m\n\u001b[1;32m    133\u001b[0m \u001b[0;34m\u001b[0m\u001b[0m\n\u001b[0;32m--> 134\u001b[0;31m         parameters = {\n\u001b[0m\u001b[1;32m    135\u001b[0m             \u001b[0mparam\u001b[0m\u001b[0;34m:\u001b[0m \u001b[0mValueDescription\u001b[0m\u001b[0;34m.\u001b[0m\u001b[0mof\u001b[0m\u001b[0;34m(\u001b[0m\u001b[0marg\u001b[0m\u001b[0;34m,\u001b[0m \u001b[0mis_encrypted\u001b[0m\u001b[0;34m=\u001b[0m\u001b[0;34m(\u001b[0m\u001b[0mstatus\u001b[0m \u001b[0;34m==\u001b[0m \u001b[0mEncryptionStatus\u001b[0m\u001b[0;34m.\u001b[0m\u001b[0mENCRYPTED\u001b[0m\u001b[0;34m)\u001b[0m\u001b[0;34m)\u001b[0m\u001b[0;34m\u001b[0m\u001b[0;34m\u001b[0m\u001b[0m\n\u001b[1;32m    136\u001b[0m             for arg, (param, status) in zip(\n",
            "\u001b[0;32m/usr/local/lib/python3.11/dist-packages/concrete/fhe/compilation/module_compiler.py\u001b[0m in \u001b[0;36m<dictcomp>\u001b[0;34m(.0)\u001b[0m\n\u001b[1;32m    133\u001b[0m \u001b[0;34m\u001b[0m\u001b[0m\n\u001b[1;32m    134\u001b[0m         parameters = {\n\u001b[0;32m--> 135\u001b[0;31m             \u001b[0mparam\u001b[0m\u001b[0;34m:\u001b[0m \u001b[0mValueDescription\u001b[0m\u001b[0;34m.\u001b[0m\u001b[0mof\u001b[0m\u001b[0;34m(\u001b[0m\u001b[0marg\u001b[0m\u001b[0;34m,\u001b[0m \u001b[0mis_encrypted\u001b[0m\u001b[0;34m=\u001b[0m\u001b[0;34m(\u001b[0m\u001b[0mstatus\u001b[0m \u001b[0;34m==\u001b[0m \u001b[0mEncryptionStatus\u001b[0m\u001b[0;34m.\u001b[0m\u001b[0mENCRYPTED\u001b[0m\u001b[0;34m)\u001b[0m\u001b[0;34m)\u001b[0m\u001b[0;34m\u001b[0m\u001b[0;34m\u001b[0m\u001b[0m\n\u001b[0m\u001b[1;32m    136\u001b[0m             for arg, (param, status) in zip(\n\u001b[1;32m    137\u001b[0m                 (\n",
            "\u001b[0;32m/usr/local/lib/python3.11/dist-packages/concrete/fhe/values/value_description.py\u001b[0m in \u001b[0;36mof\u001b[0;34m(value, is_encrypted)\u001b[0m\n\u001b[1;32m    102\u001b[0m \u001b[0;34m\u001b[0m\u001b[0m\n\u001b[1;32m    103\u001b[0m         \u001b[0mmessage\u001b[0m \u001b[0;34m=\u001b[0m \u001b[0;34mf\"Concrete cannot represent {repr(value)}\"\u001b[0m\u001b[0;34m\u001b[0m\u001b[0;34m\u001b[0m\u001b[0m\n\u001b[0;32m--> 104\u001b[0;31m         \u001b[0;32mraise\u001b[0m \u001b[0mValueError\u001b[0m\u001b[0;34m(\u001b[0m\u001b[0mmessage\u001b[0m\u001b[0;34m)\u001b[0m\u001b[0;34m\u001b[0m\u001b[0;34m\u001b[0m\u001b[0m\n\u001b[0m\u001b[1;32m    105\u001b[0m \u001b[0;34m\u001b[0m\u001b[0m\n\u001b[1;32m    106\u001b[0m         \u001b[0;31m# pylint: enable=too-many-branches,too-many-return-statements\u001b[0m\u001b[0;34m\u001b[0m\u001b[0;34m\u001b[0m\u001b[0m\n",
            "\u001b[0;31mValueError\u001b[0m: Concrete cannot represent <function square at 0x79e8ef0bf560>"
          ]
        }
      ]
    },
    {
      "cell_type": "code",
      "source": [
        "#El framework también permite hacer composición\n",
        "\n",
        "@fhe.compiler({'counter': 'encrypted'})\n",
        "def increment(counter):\n",
        "  return (counter + 1) % 100\n",
        "\n",
        "print('Compiling increment function')\n",
        "increment_fhe = increment.compile(list(range(0, 100)), composable = True)\n",
        "\n",
        "print('Generating keyset')\n",
        "increment_fhe.keygen()\n",
        "\n",
        "print('Encrypting the initial counter value')\n",
        "counter = 0\n",
        "counter_enc = increment_fhe.encrypt(counter)\n",
        "\n",
        "print(f\"| iteration || decrypted | cleartext |\")\n",
        "\n",
        "for i in range(10):\n",
        "  counter_enc = increment_fhe.run(counter_enc)\n",
        "  counter = increment(counter)\n",
        "  counter_dec = increment_fhe.decrypt(counter_enc)\n",
        "  print(f\"|     {i}     || {counter_dec:<9} | {counter:<9} |\")"
      ],
      "metadata": {
        "colab": {
          "base_uri": "https://localhost:8080/"
        },
        "id": "_Dp7POsv_F5w",
        "outputId": "b5c6eccc-ad8a-4b9e-eebb-218aac492cec"
      },
      "execution_count": 19,
      "outputs": [
        {
          "output_type": "stream",
          "name": "stdout",
          "text": [
            "Compiling increment function\n",
            "Generating keyset\n",
            "Encrypting the initial counter value\n",
            "| iteration || decrypted | cleartext |\n",
            "|     0     || 1         | 1         |\n",
            "|     1     || 2         | 2         |\n",
            "|     2     || 3         | 3         |\n",
            "|     3     || 4         | 4         |\n",
            "|     4     || 5         | 5         |\n",
            "|     5     || 6         | 6         |\n",
            "|     6     || 7         | 7         |\n",
            "|     7     || 8         | 8         |\n",
            "|     8     || 9         | 9         |\n",
            "|     9     || 10        | 10        |\n"
          ]
        }
      ]
    },
    {
      "cell_type": "code",
      "source": [
        "counter_enc"
      ],
      "metadata": {
        "colab": {
          "base_uri": "https://localhost:8080/"
        },
        "id": "MLFbF1tVAJna",
        "outputId": "92feaeed-04f3-44b9-9a0b-3924c1dd2bc6"
      },
      "execution_count": 17,
      "outputs": [
        {
          "output_type": "execute_result",
          "data": {
            "text/plain": [
              "<concrete.fhe.compilation.value.Value at 0x79e8eefba0d0>"
            ]
          },
          "metadata": {},
          "execution_count": 17
        }
      ]
    },
    {
      "cell_type": "code",
      "source": [
        "# También podemos componer con circuitos de múltiples inputs y múltiples outputs\n",
        "\n",
        "def noise_reset(x):\n",
        "  return fhe.univariate(lambda x: x)(x)\n",
        "\n",
        "@fhe.compiler({'n1th': 'encrypted', 'nth':'encrypted'})\n",
        "def fib(n1th, nth):\n",
        "  return noise_reset(nth), noise_reset(n1th + nth)\n",
        "\n",
        "print('Compiling fib function')\n",
        "inputset = list(zip(range(0, 100), range(0, 100)))\n",
        "fib_fhe = fib.compile(inputset, composable = True)\n",
        "\n",
        "print('Generating keyset')\n",
        "fib_fhe.keygen()\n",
        "\n",
        "print('Encrypting inital values')\n",
        "n1th = 1\n",
        "nth = 2\n",
        "(n1th_enc, nth_enc) = fib_fhe.encrypt(n1th, nth)\n",
        "\n",
        "for i in range(10):\n",
        "\n",
        "  (n1th_enc, nth_enc) = fib_fhe.run(n1th_enc, nth_enc)\n",
        "  (n1th, nth) = fib(n1th, nth)\n",
        "\n",
        "  (n1th_dec, nth_dec) = fib_fhe.decrypt(n1th_enc, nth_enc)"
      ],
      "metadata": {
        "colab": {
          "base_uri": "https://localhost:8080/"
        },
        "id": "P1KrTN4SA5M_",
        "outputId": "46ed6585-563b-41cd-d6d4-15ea85511886"
      },
      "execution_count": 23,
      "outputs": [
        {
          "output_type": "stream",
          "name": "stdout",
          "text": [
            "Compiling fib function\n",
            "Generating keyset\n",
            "Encrypting inital values\n"
          ]
        }
      ]
    },
    {
      "cell_type": "code",
      "source": [
        "# Para hacer composición, debemos ir refrescando el ruido\n",
        "\n",
        "def noise_reset(x):\n",
        "  return fhe.univariate(lambda x: x)(x)\n",
        "\n",
        "@fhe.compiler({'counter': 'encrypted'})\n",
        "def double(counter):\n",
        "  return noise_reset(counter * 2)\n",
        "\n",
        "print('Compilando double')\n",
        "inputset = range(0, 100)\n",
        "double_fhe = double.compile(inputset, composable = True)"
      ],
      "metadata": {
        "colab": {
          "base_uri": "https://localhost:8080/"
        },
        "id": "p_WnOAzZEIDE",
        "outputId": "c5e7ff50-14d5-4a0b-ad41-5ad91b905b77"
      },
      "execution_count": 25,
      "outputs": [
        {
          "output_type": "stream",
          "name": "stdout",
          "text": [
            "Compilando double\n"
          ]
        }
      ]
    },
    {
      "cell_type": "code",
      "source": [
        "print('generando keyset')\n",
        "\n",
        "double_fhe.keygen()"
      ],
      "metadata": {
        "colab": {
          "base_uri": "https://localhost:8080/"
        },
        "id": "EueX2bWgGD6q",
        "outputId": "6e6290bc-1cd8-4d52-e6fe-dbe818c114c0"
      },
      "execution_count": 26,
      "outputs": [
        {
          "output_type": "stream",
          "name": "stdout",
          "text": [
            "generando keyset\n"
          ]
        }
      ]
    },
    {
      "cell_type": "code",
      "source": [
        "x_enc = double_fhe.encrypt(20)\n",
        "result = double_fhe.run(x_enc)\n",
        "double_fhe.decrypt(result)"
      ],
      "metadata": {
        "colab": {
          "base_uri": "https://localhost:8080/"
        },
        "id": "FMusiBRBGgIi",
        "outputId": "98aa2dda-ffdb-42e5-ce55-564d8f7ca177"
      },
      "execution_count": 30,
      "outputs": [
        {
          "output_type": "execute_result",
          "data": {
            "text/plain": [
              "40"
            ]
          },
          "metadata": {},
          "execution_count": 30
        }
      ]
    }
  ]
}