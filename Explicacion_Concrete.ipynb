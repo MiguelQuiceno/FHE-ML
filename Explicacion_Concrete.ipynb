{
 "cells": [
  {
   "cell_type": "markdown",
   "id": "9f000c0d",
   "metadata": {},
   "source": [
    "# 📌 Introducción a Concrete y Cifrado Homomórfico (FHE)"
   ]
  },
  {
   "cell_type": "markdown",
   "id": "b401176e",
   "metadata": {},
   "source": [
    "\n",
    "Concrete es una biblioteca de Python que permite realizar cálculos sobre datos cifrados mediante **Cifrado Homomórfico Completo (FHE)**. \n",
    "Esto significa que podemos operar sobre datos sin necesidad de descifrarlos, garantizando su privacidad.\n"
   ]
  },
  {
   "cell_type": "code",
   "execution_count": null,
   "id": "ab3d0802",
   "metadata": {},
   "outputs": [],
   "source": [
    "\n",
    "# Instalación de la biblioteca (si es necesario)\n",
    "# !pip install concrete-python numpy\n"
   ]
  },
  {
   "cell_type": "markdown",
   "id": "a5fae2df",
   "metadata": {},
   "source": [
    "## 🔹 1. Inputset (Conjunto de Entradas)"
   ]
  },
  {
   "cell_type": "markdown",
   "id": "a369c38c",
   "metadata": {},
   "source": [
    "\n",
    "El `inputset` es fundamental en FHE porque ayuda al compilador de Concrete a comprender el rango de valores \n",
    "que la función cifrada procesará. Esto permite optimizar las operaciones cifradas mientras se mantiene la seguridad.\n",
    "\n",
    "**Ejemplo:** Definimos un conjunto de valores de entrada:\n"
   ]
  },
  {
   "cell_type": "code",
   "execution_count": null,
   "id": "d113b496",
   "metadata": {},
   "outputs": [],
   "source": [
    "\n",
    "import numpy as np\n",
    "\n",
    "inputset = [(np.array([2]), np.array([3]))]  # Definiendo un conjunto de entradas de ejemplo\n"
   ]
  },
  {
   "cell_type": "markdown",
   "id": "7523c06a",
   "metadata": {},
   "source": [
    "## 🔹 2. Compilador (Compiler)"
   ]
  },
  {
   "cell_type": "markdown",
   "id": "07539d9d",
   "metadata": {},
   "source": [
    "\n",
    "El `fhe.Compiler` es el componente clave que toma una función de Python y la prepara para su ejecución cifrada.\n",
    "\n",
    "**Sintaxis:**\n",
    "```python\n",
    "compiler = fhe.Compiler(nombre_funcion, {\"arg1\": \"encrypted\", \"arg2\": \"encrypted\"})\n",
    "```\n",
    "\n",
    "**Ejemplo:** \n"
   ]
  },
  {
   "cell_type": "code",
   "execution_count": null,
   "id": "c39840d5",
   "metadata": {},
   "outputs": [],
   "source": [
    "\n",
    "from concrete import fhe\n",
    "\n",
    "def suma_cifrada(x, y):\n",
    "    return x + y\n",
    "\n",
    "compiler = fhe.Compiler(suma_cifrada, {\"x\": \"encrypted\", \"y\": \"encrypted\"})\n"
   ]
  },
  {
   "cell_type": "markdown",
   "id": "d31988ff",
   "metadata": {},
   "source": [
    "## 🔹 3. Función Compile"
   ]
  },
  {
   "cell_type": "markdown",
   "id": "087a81fe",
   "metadata": {},
   "source": [
    "\n",
    "La función `compile()` procesa la función junto con el `inputset` para generar un circuito cifrado.\n",
    "\n",
    "**Ejemplo:**\n"
   ]
  },
  {
   "cell_type": "code",
   "execution_count": null,
   "id": "7add51d6",
   "metadata": {},
   "outputs": [],
   "source": [
    "\n",
    "circuit = compiler.compile(inputset)\n"
   ]
  },
  {
   "cell_type": "markdown",
   "id": "6ffc4ed0",
   "metadata": {},
   "source": [
    "## 🔹 4. Funciones de Cifrado y Descifrado"
   ]
  },
  {
   "cell_type": "markdown",
   "id": "97d6cedd",
   "metadata": {},
   "source": [
    "\n",
    "### 🔹 **Cifrado de datos**\n",
    "Convierte datos en claro en un formato cifrado.\n",
    "```python\n",
    "encrypted_data = circuit.encrypt(plain_data)\n",
    "```\n",
    "\n",
    "**Ejemplo:**\n"
   ]
  },
  {
   "cell_type": "code",
   "execution_count": null,
   "id": "a9b65a56",
   "metadata": {},
   "outputs": [],
   "source": [
    "\n",
    "encrypted_x = circuit.encrypt(np.array([2]))\n",
    "encrypted_y = circuit.encrypt(np.array([3]))\n"
   ]
  },
  {
   "cell_type": "markdown",
   "id": "499c107d",
   "metadata": {},
   "source": [
    "\n",
    "### 🔹 **Ejecución de la Computación Cifrada**\n",
    "Ejecuta la función cifrada.\n",
    "```python\n",
    "encrypted_result = circuit.run(encrypted_data)\n",
    "```\n",
    "**Ejemplo:**\n"
   ]
  },
  {
   "cell_type": "code",
   "execution_count": null,
   "id": "d2e49c92",
   "metadata": {},
   "outputs": [],
   "source": [
    "\n",
    "encrypted_result = circuit.run(encrypted_x, encrypted_y)\n"
   ]
  },
  {
   "cell_type": "markdown",
   "id": "e5352def",
   "metadata": {},
   "source": [
    "\n",
    "### 🔹 **Descifrado de datos**\n",
    "Convierte la salida cifrada en un formato legible.\n",
    "```python\n",
    "decrypted_data = circuit.decrypt(encrypted_result)\n",
    "```\n",
    "**Ejemplo:**\n"
   ]
  },
  {
   "cell_type": "code",
   "execution_count": null,
   "id": "a76071dc",
   "metadata": {},
   "outputs": [],
   "source": [
    "\n",
    "decrypted_result = circuit.decrypt(encrypted_result)\n",
    "print(\"Resultado Descifrado:\", decrypted_result)\n"
   ]
  },
  {
   "cell_type": "markdown",
   "id": "f59bcb9e",
   "metadata": {},
   "source": [
    "## 🗳️ 5. Ejemplo: Agregación de Votación Privada con FHE"
   ]
  },
  {
   "cell_type": "markdown",
   "id": "246f4f72",
   "metadata": {},
   "source": [
    "\n",
    "En este ejemplo, cada votante envía un voto cifrado (1 para \"sí\" y 0 para \"no\").\n",
    "Los votos se agregan sin revelar los individuales.\n",
    "\n",
    "**Definimos la función de votación cifrada:** \n"
   ]
  },
  {
   "cell_type": "code",
   "execution_count": null,
   "id": "735d58c0",
   "metadata": {},
   "outputs": [],
   "source": [
    "\n",
    "def fhe_voting_aggregation(votes):\n",
    "    return np.sum(votes)  # Suma de votos cifrados\n",
    "\n",
    "compiler = fhe.Compiler(fhe_voting_aggregation, {\"votes\": \"encrypted\"})\n",
    "inputset = [(np.array([1, 0, 1, 1, 0, 1]))]  # Conjunto de votos de ejemplo\n",
    "circuit = compiler.compile(inputset)\n"
   ]
  },
  {
   "cell_type": "markdown",
   "id": "c78348ee",
   "metadata": {},
   "source": [
    "\n",
    "### 🔹 **Ejecutamos el cómputo cifrado**\n"
   ]
  },
  {
   "cell_type": "code",
   "execution_count": null,
   "id": "566440a5",
   "metadata": {},
   "outputs": [],
   "source": [
    "\n",
    "encrypted_votes = circuit.encrypt(np.array([1, 0, 1, 1, 0, 1]))\n",
    "encrypted_result = circuit.run(encrypted_votes)\n",
    "decrypted_result = circuit.decrypt(encrypted_result)\n",
    "print(\"Total de Votos Descifrado:\", decrypted_result)\n"
   ]
  }
 ],
 "metadata": {},
 "nbformat": 4,
 "nbformat_minor": 5
}
