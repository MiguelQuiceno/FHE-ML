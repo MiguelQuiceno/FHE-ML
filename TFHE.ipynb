{
 "cells": [
  {
   "cell_type": "markdown",
   "metadata": {},
   "source": [
    "$$\n",
    "    \\renewcommand{\\NN}{\\mathbf{N}}\n",
    "    \\renewcommand{\\RR}{\\mathbf{R}}\n",
    "    \\renewcommand{\\ZZ}{\\mathbf{Z}}\n",
    "    \\renewcommand{\\TT}{\\mathbf{T}}\n",
    "    \\renewcommand{\\RRN}{\\RR_N [x]}\n",
    "    \\renewcommand{\\ZZN}{\\ZZ_N [x]}\n",
    "    \\renewcommand{\\TTN}{\\TT_N [x]}\n",
    "    \\renewcommand{\\BB}{\\mathbf{B}}\n",
    "    joli\n",
    "$$\n",
    "Comandos\n"
   ]
  },
  {
   "cell_type": "markdown",
   "metadata": {},
   "source": [
    "## Encripción Completamente Homomorfa con Polinomios sobre el Toro\n",
    "\n",
    "\n",
    "En este proyecto, queremos presentar lo siguiente: \n",
    "- Bases teórica y descripciones en general de FHE\n",
    "- Funcionamiento teórico de la implementación de TFHE que usamos\n",
    "- Entrenamiento de un modelo de aprendizaje SENCILLO sobre datos encriptados con este modelo\n",
    "- Análisis de eficacia y precisión del modelo\n",
    "\n",
    "--- \n",
    "\n",
    "### Funcionamiento teórico de la implementación:\n",
    "\n",
    "**Preliminares:**\n",
    "\n",
    "Usaremos las siguientes definiciones en el resto del proyecto:\n",
    "- $\\mathbf{R}$ y $\\mathbf{Z}$ denotan los $\\mathbf{Z}$-módulos de los reales y los enteros respectivamente\n",
    "- $ \\mathbf{T} = \\mathbf{R} / \\ZZ$, los reales módulo 1, denota el toro unidimensional (el círculo) como $\\ZZ$-módulo\n",
    "- Sean $N$ una potencia de $2$ dada. $\\Phi(x) = x^N +1$, irreducible sobre $\\ZZ$\n",
    "- Denotamos los cocientes $\\RRN = \\RR[x] / \\Phi(x), \\ZZN = \\ZZ[x] / \\Phi(x)$ y $\\TTN = \\TT[x] / \\Phi(x) = \\RRN / \\ZZN $ vistos como $\\ZZN$-módulos\n",
    "- $\\BB = \\{0,1 \\}$\n",
    "\n",
    "El sistema de encripción que usamos se basa sobre los siguientes problemas:\n",
    "\n",
    "**P1: LWE Sobre el Toro**\n",
    "Dados $n \\in \\NN$, $\\chi$ una distribución sobre $\\RR$, y $\\mathbf{s} =(s_1,...,s_n)  \\xleftarrow{\\$} \\BB^n $, el problema es distinguir las siiguientes distribuciones:\n",
    "- $\\mathcal{D}_0 = \\{ (\\mathbf{a},r) : \\mathbf{a} \\xleftarrow{\\$} \\TT^n, r \\xleftarrow{\\$}\\TT  \\}$\n",
    "- $\\mathcal{D}_1 = \\{ (\\mathbf{a},r) : \\mathbf{a} = (a_1,...,a_n) \\xleftarrow{\\$} \\TT^n, r = \\sum_{i=1}^{n} a_i \\cdot s_i + e  \\}$, con $e \\xleftarrow{\\chi} \\RR$\n",
    "\n",
    "Básicamente, es difícil distinguir elementos $r \\in \\TT$ verdaderamente aleatorios, de elementos construidos como cierta combinación lineal de otros elementos del toro (las componentes de $\\mathbf{a}$) junto con cierto residuo $e$, incluso teniendo acceso a $\\mathbf{a}$"
   ]
  },
  {
   "cell_type": "markdown",
   "metadata": {},
   "source": []
  }
 ],
 "metadata": {
  "kernelspec": {
   "display_name": "sage",
   "language": "python",
   "name": "python3"
  },
  "language_info": {
   "name": "python",
   "version": "3.12.7"
  }
 },
 "nbformat": 4,
 "nbformat_minor": 2
}
