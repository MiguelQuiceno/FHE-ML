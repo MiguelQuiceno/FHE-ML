{
  "nbformat": 4,
  "nbformat_minor": 0,
  "metadata": {
    "colab": {
      "provenance": [],
      "gpuType": "T4"
    },
    "kernelspec": {
      "name": "python3",
      "display_name": "Python 3"
    },
    "language_info": {
      "name": "python"
    },
    "accelerator": "GPU"
  },
  "cells": [
    {
      "cell_type": "code",
      "execution_count": 2,
      "metadata": {
        "colab": {
          "base_uri": "https://localhost:8080/"
        },
        "id": "y5sIV9DgEz6o",
        "outputId": "a7b41dac-5a0b-4fe7-f882-849e8950207e"
      },
      "outputs": [
        {
          "output_type": "stream",
          "name": "stdout",
          "text": [
            "Requirement already satisfied: pip in /usr/local/lib/python3.11/dist-packages (25.0.1)\n",
            "Requirement already satisfied: wheel in /usr/local/lib/python3.11/dist-packages (0.45.1)\n",
            "Requirement already satisfied: setuptools in /usr/local/lib/python3.11/dist-packages (75.8.0)\n",
            "Collecting concrete-python\n",
            "  Using cached concrete_python-2.9.0-cp311-cp311-manylinux_2_28_x86_64.whl.metadata (12 kB)\n",
            "Requirement already satisfied: importlib-resources>=6.1 in /usr/local/lib/python3.11/dist-packages (from concrete-python) (6.5.2)\n",
            "Requirement already satisfied: jsonpickle>=3.0.3 in /usr/local/lib/python3.11/dist-packages (from concrete-python) (4.0.1)\n",
            "Requirement already satisfied: networkx>=2.6 in /usr/local/lib/python3.11/dist-packages (from concrete-python) (3.4.2)\n",
            "Requirement already satisfied: numpy<2.0,>=1.23 in /usr/local/lib/python3.11/dist-packages (from concrete-python) (1.26.4)\n",
            "Requirement already satisfied: scipy>=1.10 in /usr/local/lib/python3.11/dist-packages (from concrete-python) (1.13.1)\n",
            "Requirement already satisfied: torch>=1.13 in /usr/local/lib/python3.11/dist-packages (from concrete-python) (2.5.1+cu124)\n",
            "Collecting z3-solver==4.13.0 (from concrete-python)\n",
            "  Using cached z3_solver-4.13.0.0-py2.py3-none-manylinux2014_x86_64.whl.metadata (757 bytes)\n",
            "Requirement already satisfied: filelock in /usr/local/lib/python3.11/dist-packages (from torch>=1.13->concrete-python) (3.17.0)\n",
            "Requirement already satisfied: typing-extensions>=4.8.0 in /usr/local/lib/python3.11/dist-packages (from torch>=1.13->concrete-python) (4.12.2)\n",
            "Requirement already satisfied: jinja2 in /usr/local/lib/python3.11/dist-packages (from torch>=1.13->concrete-python) (3.1.5)\n",
            "Requirement already satisfied: fsspec in /usr/local/lib/python3.11/dist-packages (from torch>=1.13->concrete-python) (2024.10.0)\n",
            "Collecting nvidia-cuda-nvrtc-cu12==12.4.127 (from torch>=1.13->concrete-python)\n",
            "  Using cached nvidia_cuda_nvrtc_cu12-12.4.127-py3-none-manylinux2014_x86_64.whl.metadata (1.5 kB)\n",
            "Collecting nvidia-cuda-runtime-cu12==12.4.127 (from torch>=1.13->concrete-python)\n",
            "  Using cached nvidia_cuda_runtime_cu12-12.4.127-py3-none-manylinux2014_x86_64.whl.metadata (1.5 kB)\n",
            "Collecting nvidia-cuda-cupti-cu12==12.4.127 (from torch>=1.13->concrete-python)\n",
            "  Using cached nvidia_cuda_cupti_cu12-12.4.127-py3-none-manylinux2014_x86_64.whl.metadata (1.6 kB)\n",
            "Collecting nvidia-cudnn-cu12==9.1.0.70 (from torch>=1.13->concrete-python)\n",
            "  Using cached nvidia_cudnn_cu12-9.1.0.70-py3-none-manylinux2014_x86_64.whl.metadata (1.6 kB)\n",
            "Collecting nvidia-cublas-cu12==12.4.5.8 (from torch>=1.13->concrete-python)\n",
            "  Using cached nvidia_cublas_cu12-12.4.5.8-py3-none-manylinux2014_x86_64.whl.metadata (1.5 kB)\n",
            "Collecting nvidia-cufft-cu12==11.2.1.3 (from torch>=1.13->concrete-python)\n",
            "  Using cached nvidia_cufft_cu12-11.2.1.3-py3-none-manylinux2014_x86_64.whl.metadata (1.5 kB)\n",
            "Collecting nvidia-curand-cu12==10.3.5.147 (from torch>=1.13->concrete-python)\n",
            "  Using cached nvidia_curand_cu12-10.3.5.147-py3-none-manylinux2014_x86_64.whl.metadata (1.5 kB)\n",
            "Collecting nvidia-cusolver-cu12==11.6.1.9 (from torch>=1.13->concrete-python)\n",
            "  Using cached nvidia_cusolver_cu12-11.6.1.9-py3-none-manylinux2014_x86_64.whl.metadata (1.6 kB)\n",
            "Collecting nvidia-cusparse-cu12==12.3.1.170 (from torch>=1.13->concrete-python)\n",
            "  Using cached nvidia_cusparse_cu12-12.3.1.170-py3-none-manylinux2014_x86_64.whl.metadata (1.6 kB)\n",
            "Requirement already satisfied: nvidia-nccl-cu12==2.21.5 in /usr/local/lib/python3.11/dist-packages (from torch>=1.13->concrete-python) (2.21.5)\n",
            "Requirement already satisfied: nvidia-nvtx-cu12==12.4.127 in /usr/local/lib/python3.11/dist-packages (from torch>=1.13->concrete-python) (12.4.127)\n",
            "Collecting nvidia-nvjitlink-cu12==12.4.127 (from torch>=1.13->concrete-python)\n",
            "  Using cached nvidia_nvjitlink_cu12-12.4.127-py3-none-manylinux2014_x86_64.whl.metadata (1.5 kB)\n",
            "Requirement already satisfied: triton==3.1.0 in /usr/local/lib/python3.11/dist-packages (from torch>=1.13->concrete-python) (3.1.0)\n",
            "Requirement already satisfied: sympy==1.13.1 in /usr/local/lib/python3.11/dist-packages (from torch>=1.13->concrete-python) (1.13.1)\n",
            "Requirement already satisfied: mpmath<1.4,>=1.1.0 in /usr/local/lib/python3.11/dist-packages (from sympy==1.13.1->torch>=1.13->concrete-python) (1.3.0)\n",
            "Requirement already satisfied: MarkupSafe>=2.0 in /usr/local/lib/python3.11/dist-packages (from jinja2->torch>=1.13->concrete-python) (3.0.2)\n",
            "Using cached concrete_python-2.9.0-cp311-cp311-manylinux_2_28_x86_64.whl (77.0 MB)\n",
            "Using cached z3_solver-4.13.0.0-py2.py3-none-manylinux2014_x86_64.whl (57.3 MB)\n",
            "Using cached nvidia_cublas_cu12-12.4.5.8-py3-none-manylinux2014_x86_64.whl (363.4 MB)\n",
            "Using cached nvidia_cuda_cupti_cu12-12.4.127-py3-none-manylinux2014_x86_64.whl (13.8 MB)\n",
            "Using cached nvidia_cuda_nvrtc_cu12-12.4.127-py3-none-manylinux2014_x86_64.whl (24.6 MB)\n",
            "Using cached nvidia_cuda_runtime_cu12-12.4.127-py3-none-manylinux2014_x86_64.whl (883 kB)\n",
            "Downloading nvidia_cudnn_cu12-9.1.0.70-py3-none-manylinux2014_x86_64.whl (664.8 MB)\n",
            "\u001b[2K   \u001b[90m━━━━━━━━━━━━━━━━━━━━━━━━━━━━━━━━━━━━━━━━\u001b[0m \u001b[32m664.8/664.8 MB\u001b[0m \u001b[31m26.8 MB/s\u001b[0m eta \u001b[36m0:00:00\u001b[0m\n",
            "\u001b[?25hDownloading nvidia_cufft_cu12-11.2.1.3-py3-none-manylinux2014_x86_64.whl (211.5 MB)\n",
            "\u001b[2K   \u001b[90m━━━━━━━━━━━━━━━━━━━━━━━━━━━━━━━━━━━━━━━━\u001b[0m \u001b[32m211.5/211.5 MB\u001b[0m \u001b[31m65.4 MB/s\u001b[0m eta \u001b[36m0:00:00\u001b[0m\n",
            "\u001b[?25hDownloading nvidia_curand_cu12-10.3.5.147-py3-none-manylinux2014_x86_64.whl (56.3 MB)\n",
            "\u001b[2K   \u001b[90m━━━━━━━━━━━━━━━━━━━━━━━━━━━━━━━━━━━━━━━━\u001b[0m \u001b[32m56.3/56.3 MB\u001b[0m \u001b[31m55.2 MB/s\u001b[0m eta \u001b[36m0:00:00\u001b[0m\n",
            "\u001b[?25hDownloading nvidia_cusolver_cu12-11.6.1.9-py3-none-manylinux2014_x86_64.whl (127.9 MB)\n",
            "\u001b[2K   \u001b[90m━━━━━━━━━━━━━━━━━━━━━━━━━━━━━━━━━━━━━━━━\u001b[0m \u001b[32m127.9/127.9 MB\u001b[0m \u001b[31m61.6 MB/s\u001b[0m eta \u001b[36m0:00:00\u001b[0m\n",
            "\u001b[?25hDownloading nvidia_cusparse_cu12-12.3.1.170-py3-none-manylinux2014_x86_64.whl (207.5 MB)\n",
            "\u001b[2K   \u001b[90m━━━━━━━━━━━━━━━━━━━━━━━━━━━━━━━━━━━━━━━━\u001b[0m \u001b[32m207.5/207.5 MB\u001b[0m \u001b[31m68.7 MB/s\u001b[0m eta \u001b[36m0:00:00\u001b[0m\n",
            "\u001b[?25hDownloading nvidia_nvjitlink_cu12-12.4.127-py3-none-manylinux2014_x86_64.whl (21.1 MB)\n",
            "\u001b[2K   \u001b[90m━━━━━━━━━━━━━━━━━━━━━━━━━━━━━━━━━━━━━━━━\u001b[0m \u001b[32m21.1/21.1 MB\u001b[0m \u001b[31m133.0 MB/s\u001b[0m eta \u001b[36m0:00:00\u001b[0m\n",
            "\u001b[?25hInstalling collected packages: z3-solver, nvidia-nvjitlink-cu12, nvidia-curand-cu12, nvidia-cufft-cu12, nvidia-cuda-runtime-cu12, nvidia-cuda-nvrtc-cu12, nvidia-cuda-cupti-cu12, nvidia-cublas-cu12, nvidia-cusparse-cu12, nvidia-cudnn-cu12, nvidia-cusolver-cu12, concrete-python\n",
            "  Attempting uninstall: nvidia-nvjitlink-cu12\n",
            "    Found existing installation: nvidia-nvjitlink-cu12 12.5.82\n",
            "    Uninstalling nvidia-nvjitlink-cu12-12.5.82:\n",
            "      Successfully uninstalled nvidia-nvjitlink-cu12-12.5.82\n",
            "  Attempting uninstall: nvidia-curand-cu12\n",
            "    Found existing installation: nvidia-curand-cu12 10.3.6.82\n",
            "    Uninstalling nvidia-curand-cu12-10.3.6.82:\n",
            "      Successfully uninstalled nvidia-curand-cu12-10.3.6.82\n",
            "  Attempting uninstall: nvidia-cufft-cu12\n",
            "    Found existing installation: nvidia-cufft-cu12 11.2.3.61\n",
            "    Uninstalling nvidia-cufft-cu12-11.2.3.61:\n",
            "      Successfully uninstalled nvidia-cufft-cu12-11.2.3.61\n",
            "  Attempting uninstall: nvidia-cuda-runtime-cu12\n",
            "    Found existing installation: nvidia-cuda-runtime-cu12 12.5.82\n",
            "    Uninstalling nvidia-cuda-runtime-cu12-12.5.82:\n",
            "      Successfully uninstalled nvidia-cuda-runtime-cu12-12.5.82\n",
            "  Attempting uninstall: nvidia-cuda-nvrtc-cu12\n",
            "    Found existing installation: nvidia-cuda-nvrtc-cu12 12.5.82\n",
            "    Uninstalling nvidia-cuda-nvrtc-cu12-12.5.82:\n",
            "      Successfully uninstalled nvidia-cuda-nvrtc-cu12-12.5.82\n",
            "  Attempting uninstall: nvidia-cuda-cupti-cu12\n",
            "    Found existing installation: nvidia-cuda-cupti-cu12 12.5.82\n",
            "    Uninstalling nvidia-cuda-cupti-cu12-12.5.82:\n",
            "      Successfully uninstalled nvidia-cuda-cupti-cu12-12.5.82\n",
            "  Attempting uninstall: nvidia-cublas-cu12\n",
            "    Found existing installation: nvidia-cublas-cu12 12.5.3.2\n",
            "    Uninstalling nvidia-cublas-cu12-12.5.3.2:\n",
            "      Successfully uninstalled nvidia-cublas-cu12-12.5.3.2\n",
            "  Attempting uninstall: nvidia-cusparse-cu12\n",
            "    Found existing installation: nvidia-cusparse-cu12 12.5.1.3\n",
            "    Uninstalling nvidia-cusparse-cu12-12.5.1.3:\n",
            "      Successfully uninstalled nvidia-cusparse-cu12-12.5.1.3\n",
            "  Attempting uninstall: nvidia-cudnn-cu12\n",
            "    Found existing installation: nvidia-cudnn-cu12 9.3.0.75\n",
            "    Uninstalling nvidia-cudnn-cu12-9.3.0.75:\n",
            "      Successfully uninstalled nvidia-cudnn-cu12-9.3.0.75\n",
            "  Attempting uninstall: nvidia-cusolver-cu12\n",
            "    Found existing installation: nvidia-cusolver-cu12 11.6.3.83\n",
            "    Uninstalling nvidia-cusolver-cu12-11.6.3.83:\n",
            "      Successfully uninstalled nvidia-cusolver-cu12-11.6.3.83\n",
            "Successfully installed concrete-python-2.9.0 nvidia-cublas-cu12-12.4.5.8 nvidia-cuda-cupti-cu12-12.4.127 nvidia-cuda-nvrtc-cu12-12.4.127 nvidia-cuda-runtime-cu12-12.4.127 nvidia-cudnn-cu12-9.1.0.70 nvidia-cufft-cu12-11.2.1.3 nvidia-curand-cu12-10.3.5.147 nvidia-cusolver-cu12-11.6.1.9 nvidia-cusparse-cu12-12.3.1.170 nvidia-nvjitlink-cu12-12.4.127 z3-solver-4.13.0.0\n"
          ]
        }
      ],
      "source": [
        "!pip install -U pip wheel setuptools\n",
        "!pip install concrete-python"
      ]
    },
    {
      "cell_type": "markdown",
      "source": [
        "# Workflow de Concrete\n"
      ],
      "metadata": {
        "id": "0NpjLqrpK5Au"
      }
    },
    {
      "cell_type": "code",
      "source": [
        "from concrete import fhe\n",
        "# Definir la funcion\n",
        "def multiply(x, y):\n",
        "    return x + y\n",
        "\n",
        "# Definir el compilador\n",
        "compiler = fhe.Compiler(multiply, {\"x\": \"encrypted\", \"y\": \"encrypted\"})\n",
        "\n",
        "# Definir el conjunto de entrada(determina la distribucion)\n",
        "inputset = [(2, 3), (0, 0), (1, 6), (7, 7), (7, 1), (3, 2), (6, 1), (1, 7), (4, 5), (5, 4)]\n",
        "\n",
        "# Compilar en el circuito\n",
        "print(f\"Compilation...\")\n",
        "circuit = compiler.compile(inputset)\n",
        "\n",
        "# Generar llave del circuito\n",
        "print(f\"Key generation...\")\n",
        "circuit.keygen()\n",
        "\n",
        "# Encriptar(encrypt), realizar la operacion(run) y desencriptar(decrypt)\n",
        "print(f\"Homomorphic evaluation...\")\n",
        "encrypted_x, encrypted_y = circuit.encrypt(2, 6)\n",
        "encrypted_result = circuit.run(encrypted_x, encrypted_y)\n",
        "result = circuit.decrypt(encrypted_result)\n",
        "\n",
        "assert result == multiply(2, 6)"
      ],
      "metadata": {
        "colab": {
          "base_uri": "https://localhost:8080/"
        },
        "id": "1GVxAdC1FMeM",
        "outputId": "55eb36cc-e8f5-4d3e-dea6-ae17e7bf6e89"
      },
      "execution_count": 4,
      "outputs": [
        {
          "output_type": "stream",
          "name": "stdout",
          "text": [
            "Compilation...\n",
            "Key generation...\n",
            "Homomorphic evaluation...\n"
          ]
        }
      ]
    },
    {
      "cell_type": "markdown",
      "source": [
        "## Minimos cuadrados con las uñas"
      ],
      "metadata": {
        "id": "RijSGorRJAVl"
      }
    },
    {
      "cell_type": "code",
      "source": [
        "import numpy as np\n",
        "\n",
        "# Datos de ejemplo (X con dos características + columna de unos)\n",
        "X = np.array([[1, 2],\n",
        "              [2, 3],\n",
        "              [3, 5],\n",
        "              [4, 7],\n",
        "              [5, 11]])\n",
        "\n",
        "y = np.array([2.2, 2.8, 3.6, 4.5, 5.1])  # Vector de salida\n",
        "\n",
        "# Agregar columna de unos para el término independiente\n",
        "X = np.hstack([X, np.ones((X.shape[0], 1))])\n",
        "\n",
        "# Calcular los coeficientes beta usando la ecuación normal\n",
        "beta = np.linalg.inv(X.T @ X) @ X.T @ y\n",
        "\n",
        "print(f\"Coeficientes: {beta}\")"
      ],
      "metadata": {
        "colab": {
          "base_uri": "https://localhost:8080/"
        },
        "id": "ikRYByTHLAc6",
        "outputId": "32723380-cbcc-41d6-f105-8556e19738c8"
      },
      "execution_count": 5,
      "outputs": [
        {
          "output_type": "stream",
          "name": "stdout",
          "text": [
            "Coeficientes: [ 0.76571429 -0.00714286  1.38285714]\n"
          ]
        }
      ]
    },
    {
      "cell_type": "markdown",
      "source": [
        "## Intento fallido de usar descenso del gradiente"
      ],
      "metadata": {
        "id": "T0aN0XzXOfgH"
      }
    },
    {
      "cell_type": "code",
      "source": [
        "import numpy as np\n",
        "from concrete import fhe\n",
        "\n",
        "# Definir la función de actualización de parámetros para el descenso de gradiente\n",
        "def gradient_step(X, y, beta, alpha):\n",
        "    \"\"\"\n",
        "    Un solo paso de descenso de gradiente para la regresión de mínimos cuadrados.\n",
        "\n",
        "    X: Matriz de características\n",
        "    y: Vector de salida\n",
        "    beta: Coeficientes actuales\n",
        "    alpha: Tasa de aprendizaje (pequeña)\n",
        "\n",
        "    Retorna nuevos coeficientes beta después de una actualización.\n",
        "    \"\"\"\n",
        "    # Predicción\n",
        "    y_pred = np.dot(X, beta)\n",
        "\n",
        "    # Cálculo del gradiente\n",
        "    error = y_pred - y\n",
        "    gradient = (X.T @ error) / len(y)\n",
        "\n",
        "    # Actualización de los coeficientes\n",
        "    beta_new = beta - alpha * gradient\n",
        "\n",
        "    return beta_new\n",
        "\n",
        "# Definir la función para el circuito FHE\n",
        "def encrypted_gradient_step(X, y, beta, alpha):\n",
        "    \"\"\"\n",
        "    Ejecuta un paso de descenso de gradiente sobre datos encriptados.\n",
        "    \"\"\"\n",
        "    return gradient_step(X, y, beta, alpha)\n",
        "\n",
        "# Crear datos de ejemplo\n",
        "X = np.array([[1, 2], [2, 3], [3, 5], [4, 7], [5, 11]], dtype=np.int64)\n",
        "y = np.array([2, 3, 5, 7, 11], dtype=np.int64)\n",
        "\n",
        "# Agregar columna de unos para el término independiente\n",
        "X = np.hstack([X, np.ones((X.shape[0], 1), dtype=np.int64)])\n",
        "\n",
        "# Inicializar beta (coeficientes) en ceros\n",
        "beta = np.zeros(X.shape[1], dtype=np.int64)\n",
        "\n",
        "# Tasa de aprendizaje pequeña\n",
        "alpha = 1  # Tiene que ser entero en FHE\n",
        "\n",
        "# Compilación del circuito FHE\n",
        "compiler = fhe.Compiler(encrypted_gradient_step, {\"X\": \"encrypted\", \"y\": \"encrypted\", \"beta\": \"encrypted\", \"alpha\": \"encrypted\"})\n",
        "\n",
        "# Definir el conjunto de entrada (necesario para FHE)\n",
        "inputset = [(X, y, beta, alpha)]\n",
        "\n",
        "print(\"Compiling...\")\n",
        "circuit = compiler.compile(inputset)\n",
        "\n",
        "# Generar llave del circuito\n",
        "print(\"Key generation...\")\n",
        "circuit.keygen()\n",
        "\n",
        "# Encriptar los datos\n",
        "encrypted_X = circuit.encrypt(X)\n",
        "encrypted_y = circuit.encrypt(y)\n",
        "encrypted_beta = circuit.encrypt(beta)\n",
        "encrypted_alpha = circuit.encrypt(alpha)\n",
        "\n",
        "# Ejecutar el circuito sobre datos encriptados\n",
        "print(\"Running encrypted gradient step...\")\n",
        "encrypted_beta_new = circuit.run(encrypted_X, encrypted_y, encrypted_beta, encrypted_alpha)\n",
        "\n",
        "# Desencriptar el resultado\n",
        "beta_new = circuit.decrypt(encrypted_beta_new)\n",
        "\n",
        "print(f\"Coeficientes estimados después de un paso: {beta_new}\")\n"
      ],
      "metadata": {
        "colab": {
          "base_uri": "https://localhost:8080/",
          "height": 721
        },
        "id": "_sW59iSvJD8k",
        "outputId": "2b6c3301-7d9a-4256-d7a4-bf0942dc2402"
      },
      "execution_count": 8,
      "outputs": [
        {
          "output_type": "stream",
          "name": "stdout",
          "text": [
            "Compiling...\n"
          ]
        },
        {
          "output_type": "error",
          "ename": "RuntimeError",
          "evalue": "Function you are trying to compile cannot be compiled\n\n %0 = X                        # EncryptedTensor<uint4, shape=(5, 3)>        ∈ [1, 11]\n %1 = y                        # EncryptedTensor<uint4, shape=(5,)>          ∈ [2, 11]\n %2 = beta                     # EncryptedTensor<uint1, shape=(3,)>          ∈ [0, 0]\n %3 = alpha                    # EncryptedScalar<uint1>                      ∈ [1, 1]\n %4 = dot(%0, %2)              # EncryptedTensor<uint1, shape=(5,)>          ∈ [0, 0]\n %5 = subtract(%4, %1)         # EncryptedTensor<int5, shape=(5,)>           ∈ [-11, -2]\n %6 = transpose(%0)            # EncryptedTensor<uint4, shape=(3, 5)>        ∈ [1, 11]\n %7 = matmul(%6, %5)           # EncryptedTensor<int9, shape=(3,)>           ∈ [-208, -28]\n %8 = 5                        # ClearScalar<uint3>                          ∈ [5, 5]\n %9 = divide(%7, %8)           # EncryptedTensor<float64, shape=(3,)>        ∈ [-41.6, -5.6]\n^^^^^^^^^^^^^^^^^^^^^^^^^^^^^^^^^^^^^^^^^^^^^^^^^^^^^^^^^^^^^^^^^^^^^^^^^^^^^^^^^^^^^^^^^^^^ only integers are supported\n                                                                                             <ipython-input-8-161fd63c3a6a>:21\n%10 = multiply(%3, %9)         # EncryptedTensor<float64, shape=(3,)>        ∈ [-41.6, -5.6]\n^^^^^^^^^^^^^^^^^^^^^^^^^^^^^^^^^^^^^^^^^^^^^^^^^^^^^^^^^^^^^^^^^^^^^^^^^^^^^^^^^^^^^^^^^^^^ only integers are supported\n                                                                                             <ipython-input-8-161fd63c3a6a>:24\n%11 = subtract(%2, %10)        # EncryptedTensor<float64, shape=(3,)>        ∈ [5.6, 41.6]\n^^^^^^^^^^^^^^^^^^^^^^^^^^^^^^^^^^^^^^^^^^^^^^^^^^^^^^^^^^^^^^^^^^^^^^^^^^^^^^^^^^^^^^^^^^ only integers are supported\n                                                                                           <ipython-input-8-161fd63c3a6a>:24\nreturn %11",
          "traceback": [
            "\u001b[0;31m---------------------------------------------------------------------------\u001b[0m",
            "\u001b[0;31mRuntimeError\u001b[0m                              Traceback (most recent call last)",
            "\u001b[0;32m<ipython-input-8-161fd63c3a6a>\u001b[0m in \u001b[0;36m<cell line: 0>\u001b[0;34m()\u001b[0m\n\u001b[1;32m     53\u001b[0m \u001b[0;34m\u001b[0m\u001b[0m\n\u001b[1;32m     54\u001b[0m \u001b[0mprint\u001b[0m\u001b[0;34m(\u001b[0m\u001b[0;34m\"Compiling...\"\u001b[0m\u001b[0;34m)\u001b[0m\u001b[0;34m\u001b[0m\u001b[0;34m\u001b[0m\u001b[0m\n\u001b[0;32m---> 55\u001b[0;31m \u001b[0mcircuit\u001b[0m \u001b[0;34m=\u001b[0m \u001b[0mcompiler\u001b[0m\u001b[0;34m.\u001b[0m\u001b[0mcompile\u001b[0m\u001b[0;34m(\u001b[0m\u001b[0minputset\u001b[0m\u001b[0;34m)\u001b[0m\u001b[0;34m\u001b[0m\u001b[0;34m\u001b[0m\u001b[0m\n\u001b[0m\u001b[1;32m     56\u001b[0m \u001b[0;34m\u001b[0m\u001b[0m\n\u001b[1;32m     57\u001b[0m \u001b[0;31m# Generar llave del circuito\u001b[0m\u001b[0;34m\u001b[0m\u001b[0;34m\u001b[0m\u001b[0m\n",
            "\u001b[0;32m/usr/local/lib/python3.11/dist-packages/concrete/fhe/compilation/compiler.py\u001b[0m in \u001b[0;36mcompile\u001b[0;34m(self, inputset, configuration, artifacts, **kwargs)\u001b[0m\n\u001b[1;32m    201\u001b[0m         \u001b[0;32mif\u001b[0m \u001b[0mconf\u001b[0m\u001b[0;34m.\u001b[0m\u001b[0mcomposable\u001b[0m\u001b[0;34m:\u001b[0m\u001b[0;34m\u001b[0m\u001b[0;34m\u001b[0m\u001b[0m\n\u001b[1;32m    202\u001b[0m             \u001b[0mself\u001b[0m\u001b[0;34m.\u001b[0m\u001b[0m_module_compiler\u001b[0m\u001b[0;34m.\u001b[0m\u001b[0mcomposition\u001b[0m \u001b[0;34m=\u001b[0m \u001b[0mAllComposable\u001b[0m\u001b[0;34m(\u001b[0m\u001b[0;34m)\u001b[0m\u001b[0;34m\u001b[0m\u001b[0;34m\u001b[0m\u001b[0m\n\u001b[0;32m--> 203\u001b[0;31m         fhe_module = self._module_compiler.compile(\n\u001b[0m\u001b[1;32m    204\u001b[0m             \u001b[0;34m{\u001b[0m\u001b[0mself\u001b[0m\u001b[0;34m.\u001b[0m\u001b[0m_function_name\u001b[0m\u001b[0;34m:\u001b[0m \u001b[0minputset\u001b[0m\u001b[0;34m}\u001b[0m\u001b[0;34m,\u001b[0m \u001b[0mconfiguration\u001b[0m\u001b[0;34m=\u001b[0m\u001b[0mconf\u001b[0m\u001b[0;34m,\u001b[0m \u001b[0mmodule_artifacts\u001b[0m\u001b[0;34m=\u001b[0m\u001b[0mart\u001b[0m\u001b[0;34m\u001b[0m\u001b[0;34m\u001b[0m\u001b[0m\n\u001b[1;32m    205\u001b[0m         )\n",
            "\u001b[0;32m/usr/local/lib/python3.11/dist-packages/concrete/fhe/compilation/module_compiler.py\u001b[0m in \u001b[0;36mcompile\u001b[0;34m(self, inputsets, configuration, module_artifacts, **kwargs)\u001b[0m\n\u001b[1;32m    421\u001b[0m                     \u001b[0mlist\u001b[0m\u001b[0;34m(\u001b[0m\u001b[0mfilter\u001b[0m\u001b[0;34m(\u001b[0m\u001b[0;32mNone\u001b[0m\u001b[0;34m,\u001b[0m \u001b[0;34m[\u001b[0m\u001b[0mf\u001b[0m\u001b[0;34m.\u001b[0m\u001b[0mgraph\u001b[0m \u001b[0;32mfor\u001b[0m \u001b[0mf\u001b[0m \u001b[0;32min\u001b[0m \u001b[0mself\u001b[0m\u001b[0;34m.\u001b[0m\u001b[0mfunctions\u001b[0m\u001b[0;34m.\u001b[0m\u001b[0mvalues\u001b[0m\u001b[0;34m(\u001b[0m\u001b[0;34m)\u001b[0m\u001b[0;34m]\u001b[0m\u001b[0;34m)\u001b[0m\u001b[0;34m)\u001b[0m\u001b[0;34m\u001b[0m\u001b[0;34m\u001b[0m\u001b[0m\n\u001b[1;32m    422\u001b[0m                 ),\n\u001b[0;32m--> 423\u001b[0;31m             ).convert_many(graphs, mlir_context)\n\u001b[0m\u001b[1;32m    424\u001b[0m             \u001b[0mmlir_str\u001b[0m \u001b[0;34m=\u001b[0m \u001b[0mstr\u001b[0m\u001b[0;34m(\u001b[0m\u001b[0mmlir_module\u001b[0m\u001b[0;34m)\u001b[0m\u001b[0;34m.\u001b[0m\u001b[0mstrip\u001b[0m\u001b[0;34m(\u001b[0m\u001b[0;34m)\u001b[0m\u001b[0;34m\u001b[0m\u001b[0;34m\u001b[0m\u001b[0m\n\u001b[1;32m    425\u001b[0m             \u001b[0mdbg\u001b[0m\u001b[0;34m.\u001b[0m\u001b[0mdebug_mlir\u001b[0m\u001b[0;34m(\u001b[0m\u001b[0mmlir_str\u001b[0m\u001b[0;34m)\u001b[0m\u001b[0;34m\u001b[0m\u001b[0;34m\u001b[0m\u001b[0m\n",
            "\u001b[0;32m/usr/local/lib/python3.11/dist-packages/concrete/fhe/mlir/converter.py\u001b[0m in \u001b[0;36mconvert_many\u001b[0;34m(self, graphs, mlir_context)\u001b[0m\n\u001b[1;32m     66\u001b[0m                 \u001b[0mIn\u001b[0m\u001b[0;34m-\u001b[0m\u001b[0mmemory\u001b[0m \u001b[0mMLIR\u001b[0m \u001b[0mmodule\u001b[0m \u001b[0mcorresponding\u001b[0m \u001b[0mto\u001b[0m \u001b[0mthe\u001b[0m \u001b[0mgraph\u001b[0m\u001b[0;34m\u001b[0m\u001b[0;34m\u001b[0m\u001b[0m\n\u001b[1;32m     67\u001b[0m         \"\"\"\n\u001b[0;32m---> 68\u001b[0;31m         \u001b[0mself\u001b[0m\u001b[0;34m.\u001b[0m\u001b[0mprocess\u001b[0m\u001b[0;34m(\u001b[0m\u001b[0mgraphs\u001b[0m\u001b[0;34m)\u001b[0m\u001b[0;34m\u001b[0m\u001b[0;34m\u001b[0m\u001b[0m\n\u001b[0m\u001b[1;32m     69\u001b[0m \u001b[0;34m\u001b[0m\u001b[0m\n\u001b[1;32m     70\u001b[0m         \u001b[0;32mwith\u001b[0m \u001b[0mmlir_context\u001b[0m \u001b[0;32mas\u001b[0m \u001b[0mcontext\u001b[0m\u001b[0;34m,\u001b[0m \u001b[0mMlirLocation\u001b[0m\u001b[0;34m.\u001b[0m\u001b[0munknown\u001b[0m\u001b[0;34m(\u001b[0m\u001b[0;34m)\u001b[0m\u001b[0;34m:\u001b[0m\u001b[0;34m\u001b[0m\u001b[0;34m\u001b[0m\u001b[0m\n",
            "\u001b[0;32m/usr/local/lib/python3.11/dist-packages/concrete/fhe/mlir/converter.py\u001b[0m in \u001b[0;36mprocess\u001b[0;34m(self, graphs)\u001b[0m\n\u001b[1;32m    280\u001b[0m             \u001b[0;32melse\u001b[0m\u001b[0;34m:\u001b[0m\u001b[0;34m\u001b[0m\u001b[0;34m\u001b[0m\u001b[0m\n\u001b[1;32m    281\u001b[0m                 \u001b[0;32mfor\u001b[0m \u001b[0mgraph\u001b[0m \u001b[0;32min\u001b[0m \u001b[0mgraphs\u001b[0m\u001b[0;34m.\u001b[0m\u001b[0mvalues\u001b[0m\u001b[0;34m(\u001b[0m\u001b[0;34m)\u001b[0m\u001b[0;34m:\u001b[0m\u001b[0;34m\u001b[0m\u001b[0;34m\u001b[0m\u001b[0m\n\u001b[0;32m--> 282\u001b[0;31m                     \u001b[0mprocessor\u001b[0m\u001b[0;34m.\u001b[0m\u001b[0mapply\u001b[0m\u001b[0;34m(\u001b[0m\u001b[0mgraph\u001b[0m\u001b[0;34m)\u001b[0m\u001b[0;34m\u001b[0m\u001b[0;34m\u001b[0m\u001b[0m\n\u001b[0m\u001b[1;32m    283\u001b[0m \u001b[0;34m\u001b[0m\u001b[0m\n\u001b[1;32m    284\u001b[0m     \u001b[0;32mdef\u001b[0m \u001b[0mnode\u001b[0m\u001b[0;34m(\u001b[0m\u001b[0mself\u001b[0m\u001b[0;34m,\u001b[0m \u001b[0mctx\u001b[0m\u001b[0;34m:\u001b[0m \u001b[0mContext\u001b[0m\u001b[0;34m,\u001b[0m \u001b[0mnode\u001b[0m\u001b[0;34m:\u001b[0m \u001b[0mNode\u001b[0m\u001b[0;34m,\u001b[0m \u001b[0mpreds\u001b[0m\u001b[0;34m:\u001b[0m \u001b[0mList\u001b[0m\u001b[0;34m[\u001b[0m\u001b[0mConversion\u001b[0m\u001b[0;34m]\u001b[0m\u001b[0;34m)\u001b[0m \u001b[0;34m->\u001b[0m \u001b[0mConversion\u001b[0m\u001b[0;34m:\u001b[0m\u001b[0;34m\u001b[0m\u001b[0;34m\u001b[0m\u001b[0m\n",
            "\u001b[0;32m/usr/local/lib/python3.11/dist-packages/concrete/fhe/mlir/processors/check_integer_only.py\u001b[0m in \u001b[0;36mapply\u001b[0;34m(self, graph)\u001b[0m\n\u001b[1;32m     17\u001b[0m         )\n\u001b[1;32m     18\u001b[0m         \u001b[0;32mif\u001b[0m \u001b[0mnon_integer_nodes\u001b[0m\u001b[0;34m:\u001b[0m\u001b[0;34m\u001b[0m\u001b[0;34m\u001b[0m\u001b[0m\n\u001b[0;32m---> 19\u001b[0;31m             \u001b[0mself\u001b[0m\u001b[0;34m.\u001b[0m\u001b[0merror\u001b[0m\u001b[0;34m(\u001b[0m\u001b[0mgraph\u001b[0m\u001b[0;34m,\u001b[0m \u001b[0;34m{\u001b[0m\u001b[0mnode\u001b[0m\u001b[0;34m:\u001b[0m \u001b[0;34m\"only integers are supported\"\u001b[0m \u001b[0;32mfor\u001b[0m \u001b[0mnode\u001b[0m \u001b[0;32min\u001b[0m \u001b[0mnon_integer_nodes\u001b[0m\u001b[0;34m}\u001b[0m\u001b[0;34m)\u001b[0m\u001b[0;34m\u001b[0m\u001b[0;34m\u001b[0m\u001b[0m\n\u001b[0m",
            "\u001b[0;32m/usr/local/lib/python3.11/dist-packages/concrete/fhe/representation/graph.py\u001b[0m in \u001b[0;36merror\u001b[0;34m(graph, highlights)\u001b[0m\n\u001b[1;32m   1038\u001b[0m             \u001b[0mhighlighted_nodes\u001b[0m\u001b[0;34m=\u001b[0m\u001b[0mhighlights_with_location\u001b[0m\u001b[0;34m\u001b[0m\u001b[0;34m\u001b[0m\u001b[0m\n\u001b[1;32m   1039\u001b[0m         )\n\u001b[0;32m-> 1040\u001b[0;31m         \u001b[0;32mraise\u001b[0m \u001b[0mRuntimeError\u001b[0m\u001b[0;34m(\u001b[0m\u001b[0mmessage\u001b[0m\u001b[0;34m)\u001b[0m\u001b[0;34m\u001b[0m\u001b[0;34m\u001b[0m\u001b[0m\n\u001b[0m\u001b[1;32m   1041\u001b[0m \u001b[0;34m\u001b[0m\u001b[0m\n\u001b[1;32m   1042\u001b[0m \u001b[0;34m\u001b[0m\u001b[0m\n",
            "\u001b[0;31mRuntimeError\u001b[0m: Function you are trying to compile cannot be compiled\n\n %0 = X                        # EncryptedTensor<uint4, shape=(5, 3)>        ∈ [1, 11]\n %1 = y                        # EncryptedTensor<uint4, shape=(5,)>          ∈ [2, 11]\n %2 = beta                     # EncryptedTensor<uint1, shape=(3,)>          ∈ [0, 0]\n %3 = alpha                    # EncryptedScalar<uint1>                      ∈ [1, 1]\n %4 = dot(%0, %2)              # EncryptedTensor<uint1, shape=(5,)>          ∈ [0, 0]\n %5 = subtract(%4, %1)         # EncryptedTensor<int5, shape=(5,)>           ∈ [-11, -2]\n %6 = transpose(%0)            # EncryptedTensor<uint4, shape=(3, 5)>        ∈ [1, 11]\n %7 = matmul(%6, %5)           # EncryptedTensor<int9, shape=(3,)>           ∈ [-208, -28]\n %8 = 5                        # ClearScalar<uint3>                          ∈ [5, 5]\n %9 = divide(%7, %8)           # EncryptedTensor<float64, shape=(3,)>        ∈ [-41.6, -5.6]\n^^^^^^^^^^^^^^^^^^^^^^^^^^^^^^^^^^^^^^^^^^^^^^^^^^^^^^^^^^^^^^^^^^^^^^^^^^^^^^^^^^^^^^^^^^^^ only integers are supported\n                                                                                             <ipython-input-8-161fd63c3a6a>:21\n%10 = multiply(%3, %9)         # EncryptedTensor<float64, shape=(3,)>        ∈ [-41.6, -5.6]\n^^^^^^^^^^^^^^^^^^^^^^^^^^^^^^^^^^^^^^^^^^^^^^^^^^^^^^^^^^^^^^^^^^^^^^^^^^^^^^^^^^^^^^^^^^^^ only integers are supported\n                                                                                             <ipython-input-8-161fd63c3a6a>:24\n%11 = subtract(%2, %10)        # EncryptedTensor<float64, shape=(3,)>        ∈ [5.6, 41.6]\n^^^^^^^^^^^^^^^^^^^^^^^^^^^^^^^^^^^^^^^^^^^^^^^^^^^^^^^^^^^^^^^^^^^^^^^^^^^^^^^^^^^^^^^^^^ only integers are supported\n                                                                                           <ipython-input-8-161fd63c3a6a>:24\nreturn %11"
          ]
        }
      ]
    },
    {
      "cell_type": "code",
      "source": [
        "!pip install concrete-python[full]"
      ],
      "metadata": {
        "colab": {
          "base_uri": "https://localhost:8080/"
        },
        "id": "GiLb9uJjW1Dq",
        "outputId": "5c66255b-b88b-4286-907b-042010c6df61"
      },
      "execution_count": 10,
      "outputs": [
        {
          "output_type": "stream",
          "name": "stdout",
          "text": [
            "Requirement already satisfied: concrete-python[full] in /usr/local/lib/python3.11/dist-packages (2.9.0)\n",
            "Requirement already satisfied: importlib-resources>=6.1 in /usr/local/lib/python3.11/dist-packages (from concrete-python[full]) (6.5.2)\n",
            "Requirement already satisfied: jsonpickle>=3.0.3 in /usr/local/lib/python3.11/dist-packages (from concrete-python[full]) (4.0.1)\n",
            "Requirement already satisfied: networkx>=2.6 in /usr/local/lib/python3.11/dist-packages (from concrete-python[full]) (3.4.2)\n",
            "Requirement already satisfied: numpy<2.0,>=1.23 in /usr/local/lib/python3.11/dist-packages (from concrete-python[full]) (1.26.4)\n",
            "Requirement already satisfied: scipy>=1.10 in /usr/local/lib/python3.11/dist-packages (from concrete-python[full]) (1.13.1)\n",
            "Requirement already satisfied: torch>=1.13 in /usr/local/lib/python3.11/dist-packages (from concrete-python[full]) (2.5.1+cu124)\n",
            "Requirement already satisfied: z3-solver==4.13.0 in /usr/local/lib/python3.11/dist-packages (from concrete-python[full]) (4.13.0.0)\n",
            "Requirement already satisfied: matplotlib>=3.7 in /usr/local/lib/python3.11/dist-packages (from concrete-python[full]) (3.10.0)\n",
            "Requirement already satisfied: pillow>=10.2 in /usr/local/lib/python3.11/dist-packages (from concrete-python[full]) (11.1.0)\n",
            "Collecting pygraphviz>=1.11 (from concrete-python[full])\n",
            "  Downloading pygraphviz-1.14.tar.gz (106 kB)\n",
            "  Installing build dependencies ... \u001b[?25l\u001b[?25hdone\n",
            "  Getting requirements to build wheel ... \u001b[?25l\u001b[?25hdone\n",
            "  Preparing metadata (pyproject.toml) ... \u001b[?25l\u001b[?25hdone\n",
            "Requirement already satisfied: contourpy>=1.0.1 in /usr/local/lib/python3.11/dist-packages (from matplotlib>=3.7->concrete-python[full]) (1.3.1)\n",
            "Requirement already satisfied: cycler>=0.10 in /usr/local/lib/python3.11/dist-packages (from matplotlib>=3.7->concrete-python[full]) (0.12.1)\n",
            "Requirement already satisfied: fonttools>=4.22.0 in /usr/local/lib/python3.11/dist-packages (from matplotlib>=3.7->concrete-python[full]) (4.55.8)\n",
            "Requirement already satisfied: kiwisolver>=1.3.1 in /usr/local/lib/python3.11/dist-packages (from matplotlib>=3.7->concrete-python[full]) (1.4.8)\n",
            "Requirement already satisfied: packaging>=20.0 in /usr/local/lib/python3.11/dist-packages (from matplotlib>=3.7->concrete-python[full]) (24.2)\n",
            "Requirement already satisfied: pyparsing>=2.3.1 in /usr/local/lib/python3.11/dist-packages (from matplotlib>=3.7->concrete-python[full]) (3.2.1)\n",
            "Requirement already satisfied: python-dateutil>=2.7 in /usr/local/lib/python3.11/dist-packages (from matplotlib>=3.7->concrete-python[full]) (2.8.2)\n",
            "Requirement already satisfied: filelock in /usr/local/lib/python3.11/dist-packages (from torch>=1.13->concrete-python[full]) (3.17.0)\n",
            "Requirement already satisfied: typing-extensions>=4.8.0 in /usr/local/lib/python3.11/dist-packages (from torch>=1.13->concrete-python[full]) (4.12.2)\n",
            "Requirement already satisfied: jinja2 in /usr/local/lib/python3.11/dist-packages (from torch>=1.13->concrete-python[full]) (3.1.5)\n",
            "Requirement already satisfied: fsspec in /usr/local/lib/python3.11/dist-packages (from torch>=1.13->concrete-python[full]) (2024.10.0)\n",
            "Requirement already satisfied: nvidia-cuda-nvrtc-cu12==12.4.127 in /usr/local/lib/python3.11/dist-packages (from torch>=1.13->concrete-python[full]) (12.4.127)\n",
            "Requirement already satisfied: nvidia-cuda-runtime-cu12==12.4.127 in /usr/local/lib/python3.11/dist-packages (from torch>=1.13->concrete-python[full]) (12.4.127)\n",
            "Requirement already satisfied: nvidia-cuda-cupti-cu12==12.4.127 in /usr/local/lib/python3.11/dist-packages (from torch>=1.13->concrete-python[full]) (12.4.127)\n",
            "Requirement already satisfied: nvidia-cudnn-cu12==9.1.0.70 in /usr/local/lib/python3.11/dist-packages (from torch>=1.13->concrete-python[full]) (9.1.0.70)\n",
            "Requirement already satisfied: nvidia-cublas-cu12==12.4.5.8 in /usr/local/lib/python3.11/dist-packages (from torch>=1.13->concrete-python[full]) (12.4.5.8)\n",
            "Requirement already satisfied: nvidia-cufft-cu12==11.2.1.3 in /usr/local/lib/python3.11/dist-packages (from torch>=1.13->concrete-python[full]) (11.2.1.3)\n",
            "Requirement already satisfied: nvidia-curand-cu12==10.3.5.147 in /usr/local/lib/python3.11/dist-packages (from torch>=1.13->concrete-python[full]) (10.3.5.147)\n",
            "Requirement already satisfied: nvidia-cusolver-cu12==11.6.1.9 in /usr/local/lib/python3.11/dist-packages (from torch>=1.13->concrete-python[full]) (11.6.1.9)\n",
            "Requirement already satisfied: nvidia-cusparse-cu12==12.3.1.170 in /usr/local/lib/python3.11/dist-packages (from torch>=1.13->concrete-python[full]) (12.3.1.170)\n",
            "Requirement already satisfied: nvidia-nccl-cu12==2.21.5 in /usr/local/lib/python3.11/dist-packages (from torch>=1.13->concrete-python[full]) (2.21.5)\n",
            "Requirement already satisfied: nvidia-nvtx-cu12==12.4.127 in /usr/local/lib/python3.11/dist-packages (from torch>=1.13->concrete-python[full]) (12.4.127)\n",
            "Requirement already satisfied: nvidia-nvjitlink-cu12==12.4.127 in /usr/local/lib/python3.11/dist-packages (from torch>=1.13->concrete-python[full]) (12.4.127)\n",
            "Requirement already satisfied: triton==3.1.0 in /usr/local/lib/python3.11/dist-packages (from torch>=1.13->concrete-python[full]) (3.1.0)\n",
            "Requirement already satisfied: sympy==1.13.1 in /usr/local/lib/python3.11/dist-packages (from torch>=1.13->concrete-python[full]) (1.13.1)\n",
            "Requirement already satisfied: mpmath<1.4,>=1.1.0 in /usr/local/lib/python3.11/dist-packages (from sympy==1.13.1->torch>=1.13->concrete-python[full]) (1.3.0)\n",
            "Requirement already satisfied: six>=1.5 in /usr/local/lib/python3.11/dist-packages (from python-dateutil>=2.7->matplotlib>=3.7->concrete-python[full]) (1.17.0)\n",
            "Requirement already satisfied: MarkupSafe>=2.0 in /usr/local/lib/python3.11/dist-packages (from jinja2->torch>=1.13->concrete-python[full]) (3.0.2)\n",
            "Building wheels for collected packages: pygraphviz\n",
            "  \u001b[1;31merror\u001b[0m: \u001b[1msubprocess-exited-with-error\u001b[0m\n",
            "  \n",
            "  \u001b[31m×\u001b[0m \u001b[32mBuilding wheel for pygraphviz \u001b[0m\u001b[1;32m(\u001b[0m\u001b[32mpyproject.toml\u001b[0m\u001b[1;32m)\u001b[0m did not run successfully.\n",
            "  \u001b[31m│\u001b[0m exit code: \u001b[1;36m1\u001b[0m\n",
            "  \u001b[31m╰─>\u001b[0m See above for output.\n",
            "  \n",
            "  \u001b[1;35mnote\u001b[0m: This error originates from a subprocess, and is likely not a problem with pip.\n",
            "  Building wheel for pygraphviz (pyproject.toml) ... \u001b[?25l\u001b[?25herror\n",
            "\u001b[31m  ERROR: Failed building wheel for pygraphviz\u001b[0m\u001b[31m\n",
            "\u001b[0mFailed to build pygraphviz\n",
            "\u001b[31mERROR: Failed to build installable wheels for some pyproject.toml based projects (pygraphviz)\u001b[0m\u001b[31m\n",
            "\u001b[0m"
          ]
        }
      ]
    },
    {
      "cell_type": "code",
      "source": [
        "import numpy as np\n",
        "from concrete import fhe\n",
        "from concrete.fhe import FHElinalg\n",
        "\n",
        "# Función para resolver el sistema de ecuaciones normales\n",
        "def solve_least_squares(X, y):\n",
        "    \"\"\"\n",
        "    Calcula los coeficientes de mínimos cuadrados resolviendo (X^T X) beta = X^T y\n",
        "    \"\"\"\n",
        "    XT = X.T  # Transpuesta de X\n",
        "    XTX = FHElinalg.matmul(XT, X)  # Multiplicación de matrices en FHE\n",
        "    XTy = FHElinalg.matmul(XT, y)  # Producto X^T y\n",
        "\n",
        "    # Resolver el sistema XTX * beta = XTy usando FHElinalg.solve\n",
        "    beta = FHElinalg.solve(XTX, XTy)\n",
        "\n",
        "    return beta\n",
        "\n",
        "# Datos de entrada (Matriz X y vector y)\n",
        "X = np.array([[1, 2], [2, 3], [3, 5], [4, 7], [5, 11]], dtype=np.int64)\n",
        "y = np.array([2, 3, 5, 7, 11], dtype=np.int64)\n",
        "\n",
        "# Agregar una columna de unos para el término independiente\n",
        "X = np.hstack([X, np.ones((X.shape[0], 1), dtype=np.int64)])\n",
        "\n",
        "# Compilar la función en FHE\n",
        "compiler = fhe.Compiler(solve_least_squares, {\"X\": \"encrypted\", \"y\": \"encrypted\"})\n",
        "\n",
        "# Definir el conjunto de entrada para la compilación\n",
        "inputset = [(X, y)]\n",
        "\n",
        "print(\"Compiling...\")\n",
        "circuit = compiler.compile(inputset)\n",
        "\n",
        "# Generar llaves FHE\n",
        "print(\"Key generation...\")\n",
        "circuit.keygen()\n",
        "\n",
        "# Encriptar los datos\n",
        "encrypted_X = circuit.encrypt(X)\n",
        "encrypted_y = circuit.encrypt(y)\n",
        "\n",
        "# Ejecutar el circuito sobre datos encriptados\n",
        "print(\"Running encrypted least squares...\")\n",
        "encrypted_beta = circuit.run(encrypted_X, encrypted_y)\n",
        "\n",
        "# Desencriptar el resultado\n",
        "beta = circuit.decrypt(encrypted_beta)\n",
        "\n",
        "print(f\"Coeficientes estimados: {beta}\")\n"
      ],
      "metadata": {
        "colab": {
          "base_uri": "https://localhost:8080/",
          "height": 403
        },
        "id": "qL9Petd0Omci",
        "outputId": "7a6a5c1e-829b-46ca-be80-d22b5a104778"
      },
      "execution_count": 9,
      "outputs": [
        {
          "output_type": "error",
          "ename": "ImportError",
          "evalue": "cannot import name 'FHElinalg' from 'concrete.fhe' (/usr/local/lib/python3.11/dist-packages/concrete/fhe/__init__.py)",
          "traceback": [
            "\u001b[0;31m---------------------------------------------------------------------------\u001b[0m",
            "\u001b[0;31mImportError\u001b[0m                               Traceback (most recent call last)",
            "\u001b[0;32m<ipython-input-9-a5a58c29c420>\u001b[0m in \u001b[0;36m<cell line: 0>\u001b[0;34m()\u001b[0m\n\u001b[1;32m      1\u001b[0m \u001b[0;32mimport\u001b[0m \u001b[0mnumpy\u001b[0m \u001b[0;32mas\u001b[0m \u001b[0mnp\u001b[0m\u001b[0;34m\u001b[0m\u001b[0;34m\u001b[0m\u001b[0m\n\u001b[1;32m      2\u001b[0m \u001b[0;32mfrom\u001b[0m \u001b[0mconcrete\u001b[0m \u001b[0;32mimport\u001b[0m \u001b[0mfhe\u001b[0m\u001b[0;34m\u001b[0m\u001b[0;34m\u001b[0m\u001b[0m\n\u001b[0;32m----> 3\u001b[0;31m \u001b[0;32mfrom\u001b[0m \u001b[0mconcrete\u001b[0m\u001b[0;34m.\u001b[0m\u001b[0mfhe\u001b[0m \u001b[0;32mimport\u001b[0m \u001b[0mFHElinalg\u001b[0m\u001b[0;34m\u001b[0m\u001b[0;34m\u001b[0m\u001b[0m\n\u001b[0m\u001b[1;32m      4\u001b[0m \u001b[0;34m\u001b[0m\u001b[0m\n\u001b[1;32m      5\u001b[0m \u001b[0;31m# Función para resolver el sistema de ecuaciones normales\u001b[0m\u001b[0;34m\u001b[0m\u001b[0;34m\u001b[0m\u001b[0m\n",
            "\u001b[0;31mImportError\u001b[0m: cannot import name 'FHElinalg' from 'concrete.fhe' (/usr/local/lib/python3.11/dist-packages/concrete/fhe/__init__.py)",
            "",
            "\u001b[0;31m---------------------------------------------------------------------------\u001b[0;32m\nNOTE: If your import is failing due to a missing package, you can\nmanually install dependencies using either !pip or !apt.\n\nTo view examples of installing some common dependencies, click the\n\"Open Examples\" button below.\n\u001b[0;31m---------------------------------------------------------------------------\u001b[0m\n"
          ],
          "errorDetails": {
            "actions": [
              {
                "action": "open_url",
                "actionText": "Open Examples",
                "url": "/notebooks/snippets/importing_libraries.ipynb"
              }
            ]
          }
        }
      ]
    }
  ]
}