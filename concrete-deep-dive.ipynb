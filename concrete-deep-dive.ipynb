{
 "cells": [
  {
   "cell_type": "code",
   "execution_count": 1,
   "id": "3f9195c2",
   "metadata": {
    "_cell_guid": "b1076dfc-b9ad-4769-8c92-a6c4dae69d19",
    "_uuid": "8f2839f25d086af736a60e9eeb907d3b93b6e0e5",
    "execution": {
     "iopub.execute_input": "2025-02-25T22:48:35.038374Z",
     "iopub.status.busy": "2025-02-25T22:48:35.037829Z",
     "iopub.status.idle": "2025-02-25T22:49:14.272328Z",
     "shell.execute_reply": "2025-02-25T22:49:14.270988Z"
    },
    "papermill": {
     "duration": 39.240789,
     "end_time": "2025-02-25T22:49:14.274470",
     "exception": false,
     "start_time": "2025-02-25T22:48:35.033681",
     "status": "completed"
    },
    "tags": []
   },
   "outputs": [
    {
     "name": "stdout",
     "output_type": "stream",
     "text": [
      "Requirement already satisfied: pip in /usr/local/lib/python3.10/dist-packages (24.1.2)\r\n",
      "Collecting pip\r\n",
      "  Downloading pip-25.0.1-py3-none-any.whl.metadata (3.7 kB)\r\n",
      "Requirement already satisfied: wheel in /usr/local/lib/python3.10/dist-packages (0.45.1)\r\n",
      "Requirement already satisfied: setuptools in /usr/local/lib/python3.10/dist-packages (75.1.0)\r\n",
      "Collecting setuptools\r\n",
      "  Downloading setuptools-75.8.1-py3-none-any.whl.metadata (6.7 kB)\r\n",
      "Downloading pip-25.0.1-py3-none-any.whl (1.8 MB)\r\n",
      "\u001b[2K   \u001b[90m━━━━━━━━━━━━━━━━━━━━━━━━━━━━━━━━━━━━━━━━\u001b[0m \u001b[32m1.8/1.8 MB\u001b[0m \u001b[31m24.0 MB/s\u001b[0m eta \u001b[36m0:00:00\u001b[0m\r\n",
      "\u001b[?25hDownloading setuptools-75.8.1-py3-none-any.whl (1.2 MB)\r\n",
      "\u001b[2K   \u001b[90m━━━━━━━━━━━━━━━━━━━━━━━━━━━━━━━━━━━━━━━━\u001b[0m \u001b[32m1.2/1.2 MB\u001b[0m \u001b[31m38.1 MB/s\u001b[0m eta \u001b[36m0:00:00\u001b[0m\r\n",
      "\u001b[?25hInstalling collected packages: setuptools, pip\r\n",
      "  Attempting uninstall: setuptools\r\n",
      "    Found existing installation: setuptools 75.1.0\r\n",
      "    Uninstalling setuptools-75.1.0:\r\n",
      "      Successfully uninstalled setuptools-75.1.0\r\n",
      "  Attempting uninstall: pip\r\n",
      "    Found existing installation: pip 24.1.2\r\n",
      "    Uninstalling pip-24.1.2:\r\n",
      "      Successfully uninstalled pip-24.1.2\r\n",
      "\u001b[31mERROR: pip's dependency resolver does not currently take into account all the packages that are installed. This behaviour is the source of the following dependency conflicts.\r\n",
      "pandas-gbq 0.25.0 requires google-api-core<3.0.0dev,>=2.10.2, but you have google-api-core 1.34.1 which is incompatible.\r\n",
      "tensorflow-decision-forests 1.10.0 requires tensorflow==2.17.0, but you have tensorflow 2.17.1 which is incompatible.\u001b[0m\u001b[31m\r\n",
      "\u001b[0mSuccessfully installed pip-25.0.1 setuptools-75.8.1\r\n",
      "Collecting concrete-python\r\n",
      "  Downloading concrete_python-2.9.0-cp310-cp310-manylinux_2_28_x86_64.whl.metadata (12 kB)\r\n",
      "Collecting importlib-resources>=6.1 (from concrete-python)\r\n",
      "  Downloading importlib_resources-6.5.2-py3-none-any.whl.metadata (3.9 kB)\r\n",
      "Requirement already satisfied: jsonpickle>=3.0.3 in /usr/local/lib/python3.10/dist-packages (from concrete-python) (4.0.1)\r\n",
      "Requirement already satisfied: networkx>=2.6 in /usr/local/lib/python3.10/dist-packages (from concrete-python) (3.4.2)\r\n",
      "Requirement already satisfied: numpy<2.0,>=1.23 in /usr/local/lib/python3.10/dist-packages (from concrete-python) (1.26.4)\r\n",
      "Requirement already satisfied: scipy>=1.10 in /usr/local/lib/python3.10/dist-packages (from concrete-python) (1.13.1)\r\n",
      "Requirement already satisfied: torch>=1.13 in /usr/local/lib/python3.10/dist-packages (from concrete-python) (2.5.1+cu121)\r\n",
      "Collecting z3-solver==4.13.0 (from concrete-python)\r\n",
      "  Downloading z3_solver-4.13.0.0-py2.py3-none-manylinux2014_x86_64.whl.metadata (757 bytes)\r\n",
      "Requirement already satisfied: mkl_fft in /usr/local/lib/python3.10/dist-packages (from numpy<2.0,>=1.23->concrete-python) (1.3.8)\r\n",
      "Requirement already satisfied: mkl_random in /usr/local/lib/python3.10/dist-packages (from numpy<2.0,>=1.23->concrete-python) (1.2.4)\r\n",
      "Requirement already satisfied: mkl_umath in /usr/local/lib/python3.10/dist-packages (from numpy<2.0,>=1.23->concrete-python) (0.1.1)\r\n",
      "Requirement already satisfied: mkl in /usr/local/lib/python3.10/dist-packages (from numpy<2.0,>=1.23->concrete-python) (2025.0.1)\r\n",
      "Requirement already satisfied: tbb4py in /usr/local/lib/python3.10/dist-packages (from numpy<2.0,>=1.23->concrete-python) (2022.0.0)\r\n",
      "Requirement already satisfied: mkl-service in /usr/local/lib/python3.10/dist-packages (from numpy<2.0,>=1.23->concrete-python) (2.4.1)\r\n",
      "Requirement already satisfied: filelock in /usr/local/lib/python3.10/dist-packages (from torch>=1.13->concrete-python) (3.17.0)\r\n",
      "Requirement already satisfied: typing-extensions>=4.8.0 in /usr/local/lib/python3.10/dist-packages (from torch>=1.13->concrete-python) (4.12.2)\r\n",
      "Requirement already satisfied: jinja2 in /usr/local/lib/python3.10/dist-packages (from torch>=1.13->concrete-python) (3.1.4)\r\n",
      "Requirement already satisfied: fsspec in /usr/local/lib/python3.10/dist-packages (from torch>=1.13->concrete-python) (2024.12.0)\r\n",
      "Requirement already satisfied: sympy==1.13.1 in /usr/local/lib/python3.10/dist-packages (from torch>=1.13->concrete-python) (1.13.1)\r\n",
      "Requirement already satisfied: mpmath<1.4,>=1.1.0 in /usr/local/lib/python3.10/dist-packages (from sympy==1.13.1->torch>=1.13->concrete-python) (1.3.0)\r\n",
      "Requirement already satisfied: MarkupSafe>=2.0 in /usr/local/lib/python3.10/dist-packages (from jinja2->torch>=1.13->concrete-python) (3.0.2)\r\n",
      "Requirement already satisfied: intel-openmp>=2024 in /usr/local/lib/python3.10/dist-packages (from mkl->numpy<2.0,>=1.23->concrete-python) (2024.2.0)\r\n",
      "Requirement already satisfied: tbb==2022.* in /usr/local/lib/python3.10/dist-packages (from mkl->numpy<2.0,>=1.23->concrete-python) (2022.0.0)\r\n",
      "Requirement already satisfied: tcmlib==1.* in /usr/local/lib/python3.10/dist-packages (from tbb==2022.*->mkl->numpy<2.0,>=1.23->concrete-python) (1.2.0)\r\n",
      "Requirement already satisfied: intel-cmplr-lib-rt in /usr/local/lib/python3.10/dist-packages (from mkl_umath->numpy<2.0,>=1.23->concrete-python) (2024.2.0)\r\n",
      "Requirement already satisfied: intel-cmplr-lib-ur==2024.2.0 in /usr/local/lib/python3.10/dist-packages (from intel-openmp>=2024->mkl->numpy<2.0,>=1.23->concrete-python) (2024.2.0)\r\n",
      "Downloading concrete_python-2.9.0-cp310-cp310-manylinux_2_28_x86_64.whl (77.0 MB)\r\n",
      "\u001b[2K   \u001b[90m━━━━━━━━━━━━━━━━━━━━━━━━━━━━━━━━━━━━━━━━\u001b[0m \u001b[32m77.0/77.0 MB\u001b[0m \u001b[31m88.3 MB/s\u001b[0m eta \u001b[36m0:00:00\u001b[0m\r\n",
      "\u001b[?25hDownloading z3_solver-4.13.0.0-py2.py3-none-manylinux2014_x86_64.whl (57.3 MB)\r\n",
      "\u001b[2K   \u001b[90m━━━━━━━━━━━━━━━━━━━━━━━━━━━━━━━━━━━━━━━━\u001b[0m \u001b[32m57.3/57.3 MB\u001b[0m \u001b[31m90.7 MB/s\u001b[0m eta \u001b[36m0:00:00\u001b[0m\r\n",
      "\u001b[?25hDownloading importlib_resources-6.5.2-py3-none-any.whl (37 kB)\r\n",
      "Installing collected packages: z3-solver, importlib-resources, concrete-python\r\n",
      "  Attempting uninstall: importlib-resources\r\n",
      "    Found existing installation: importlib-resources 5.13.0\r\n",
      "    Uninstalling importlib-resources-5.13.0:\r\n",
      "      Successfully uninstalled importlib-resources-5.13.0\r\n",
      "\u001b[31mERROR: pip's dependency resolver does not currently take into account all the packages that are installed. This behaviour is the source of the following dependency conflicts.\r\n",
      "sigstore 3.6.1 requires importlib_resources~=5.7; python_version < \"3.11\", but you have importlib-resources 6.5.2 which is incompatible.\u001b[0m\u001b[31m\r\n",
      "\u001b[0mSuccessfully installed concrete-python-2.9.0 importlib-resources-6.5.2 z3-solver-4.13.0.0\r\n"
     ]
    }
   ],
   "source": [
    "import numpy as np \n",
    "!pip install -U pip wheel setuptools\n",
    "!pip install concrete-python"
   ]
  },
  {
   "cell_type": "code",
   "execution_count": 2,
   "id": "57fd1ba6",
   "metadata": {
    "execution": {
     "iopub.execute_input": "2025-02-25T22:49:14.285485Z",
     "iopub.status.busy": "2025-02-25T22:49:14.285140Z",
     "iopub.status.idle": "2025-02-25T22:49:20.333265Z",
     "shell.execute_reply": "2025-02-25T22:49:20.332137Z"
    },
    "papermill": {
     "duration": 6.055713,
     "end_time": "2025-02-25T22:49:20.335211",
     "exception": false,
     "start_time": "2025-02-25T22:49:14.279498",
     "status": "completed"
    },
    "tags": []
   },
   "outputs": [],
   "source": [
    "from concrete import fhe"
   ]
  },
  {
   "cell_type": "code",
   "execution_count": 3,
   "id": "24932435",
   "metadata": {
    "execution": {
     "iopub.execute_input": "2025-02-25T22:49:20.345675Z",
     "iopub.status.busy": "2025-02-25T22:49:20.345078Z",
     "iopub.status.idle": "2025-02-25T22:49:21.061181Z",
     "shell.execute_reply": "2025-02-25T22:49:21.059791Z"
    },
    "papermill": {
     "duration": 0.723739,
     "end_time": "2025-02-25T22:49:21.063453",
     "exception": false,
     "start_time": "2025-02-25T22:49:20.339714",
     "status": "completed"
    },
    "tags": []
   },
   "outputs": [
    {
     "name": "stdout",
     "output_type": "stream",
     "text": [
      "Decrypted Result: [5]\n"
     ]
    }
   ],
   "source": [
    "## 1. Basic Encrypted Computation in Concrete\n",
    "\n",
    "# Define a simple encrypted function\n",
    "def add_encrypted(x, y):\n",
    "    return x + y\n",
    "\n",
    "# Compile the function for FHE\n",
    "compiler = fhe.Compiler(add_encrypted, {\"x\": \"encrypted\", \"y\": \"encrypted\"})\n",
    "inputset = [(np.array([2]), np.array([3]))]\n",
    "circuit = compiler.compile(inputset)\n",
    "\n",
    "# Encrypt, compute, and decrypt\n",
    "encrypted_x, encrypted_y = circuit.encrypt(np.array([2]), np.array([3]))\n",
    "\n",
    "encrypted_result = circuit.run(encrypted_x, encrypted_y)\n",
    "decrypted_result = circuit.decrypt(encrypted_result)\n",
    "print(\"Decrypted Result:\", decrypted_result)\n"
   ]
  },
  {
   "cell_type": "code",
   "execution_count": 4,
   "id": "c9a41485",
   "metadata": {
    "execution": {
     "iopub.execute_input": "2025-02-25T22:49:21.079874Z",
     "iopub.status.busy": "2025-02-25T22:49:21.079397Z",
     "iopub.status.idle": "2025-02-25T22:49:22.978628Z",
     "shell.execute_reply": "2025-02-25T22:49:22.977305Z"
    },
    "papermill": {
     "duration": 1.909922,
     "end_time": "2025-02-25T22:49:22.982047",
     "exception": false,
     "start_time": "2025-02-25T22:49:21.072125",
     "status": "completed"
    },
    "tags": []
   },
   "outputs": [
    {
     "name": "stdout",
     "output_type": "stream",
     "text": [
      "Decrypted Matrix-Vector Multiplication Result: [17 39]\n"
     ]
    }
   ],
   "source": [
    "## 2. Encrypted Matrix Multiplication\n",
    "\n",
    "def matrix_vector_mul(X, y):\n",
    "    return np.matmul(X, y)\n",
    "\n",
    "compiler = fhe.Compiler(matrix_vector_mul, {\"X\": \"encrypted\", \"y\": \"encrypted\"})\n",
    "inputset = [(np.array([[1, 2], [3, 4]]), np.array([5, 6]))]\n",
    "circuit = compiler.compile(inputset)\n",
    "\n",
    "# Encrypt & compute\n",
    "encrypted_X, encrypted_y = circuit.encrypt(np.array([[1, 2], [3, 4]]), np.array([5, 6]))\n",
    "encrypted_result = circuit.run(encrypted_X, encrypted_y)\n",
    "decrypted_result = circuit.decrypt(encrypted_result)\n",
    "print(\"Decrypted Matrix-Vector Multiplication Result:\", decrypted_result)"
   ]
  },
  {
   "cell_type": "code",
   "execution_count": 5,
   "id": "64456285",
   "metadata": {
    "execution": {
     "iopub.execute_input": "2025-02-25T22:49:23.001016Z",
     "iopub.status.busy": "2025-02-25T22:49:23.000559Z",
     "iopub.status.idle": "2025-02-25T22:49:23.149966Z",
     "shell.execute_reply": "2025-02-25T22:49:23.147561Z"
    },
    "papermill": {
     "duration": 0.159884,
     "end_time": "2025-02-25T22:49:23.152695",
     "exception": false,
     "start_time": "2025-02-25T22:49:22.992811",
     "status": "completed"
    },
    "tags": []
   },
   "outputs": [
    {
     "name": "stdout",
     "output_type": "stream",
     "text": [
      "Decrypted Vote Count: 4\n"
     ]
    }
   ],
   "source": [
    "## 3. Encrypted Private Voting Aggregation (FHE)\n",
    "\n",
    "# Private voting scenario: Each voter submits a 1 (yes) or 0 (no) vote.\n",
    "# The encrypted votes are aggregated without revealing individual votes.\n",
    "\n",
    "def fhe_voting_aggregation(votes):\n",
    "    return np.sum(votes)  # Sum up encrypted votes\n",
    "\n",
    "# Compile FHE function\n",
    "compiler = fhe.Compiler(fhe_voting_aggregation, {\"votes\": \"encrypted\"})\n",
    "inputset = [(np.array([1, 0, 1, 1, 0, 1]))]  # Example inputset with votes\n",
    "circuit = compiler.compile(inputset)\n",
    "\n",
    "# Encrypt & compute\n",
    "encrypted_votes = circuit.encrypt(np.array([1, 0, 1, 1, 0, 1]))\n",
    "encrypted_result = circuit.run(encrypted_votes)\n",
    "decrypted_result = circuit.decrypt(encrypted_result)\n",
    "print(\"Decrypted Vote Count:\", decrypted_result)\n"
   ]
  }
 ],
 "metadata": {
  "kaggle": {
   "accelerator": "none",
   "dataSources": [],
   "dockerImageVersionId": 30918,
   "isGpuEnabled": false,
   "isInternetEnabled": true,
   "language": "python",
   "sourceType": "notebook"
  },
  "kernelspec": {
   "display_name": "Python 3",
   "language": "python",
   "name": "python3"
  },
  "language_info": {
   "codemirror_mode": {
    "name": "ipython",
    "version": 3
   },
   "file_extension": ".py",
   "mimetype": "text/x-python",
   "name": "python",
   "nbconvert_exporter": "python",
   "pygments_lexer": "ipython3",
   "version": "3.10.12"
  },
  "papermill": {
   "default_parameters": {},
   "duration": 51.894295,
   "end_time": "2025-02-25T22:49:23.980150",
   "environment_variables": {},
   "exception": null,
   "input_path": "__notebook__.ipynb",
   "output_path": "__notebook__.ipynb",
   "parameters": {},
   "start_time": "2025-02-25T22:48:32.085855",
   "version": "2.6.0"
  }
 },
 "nbformat": 4,
 "nbformat_minor": 5
}
